{
  "nbformat": 4,
  "nbformat_minor": 0,
  "metadata": {
    "colab": {
      "provenance": []
    },
    "kernelspec": {
      "name": "python3",
      "display_name": "Python 3"
    },
    "language_info": {
      "name": "python"
    }
  },
  "cells": [
    {
      "cell_type": "markdown",
      "source": [
        "CS 210 Recitation 4 - Anamika"
      ],
      "metadata": {
        "id": "6xhaXmd9V4xO"
      }
    },
    {
      "cell_type": "code",
      "execution_count": null,
      "metadata": {
        "colab": {
          "base_uri": "https://localhost:8080/"
        },
        "id": "Qt6pXAs5R0ND",
        "outputId": "93cc3f10-3778-47d5-e69c-fb3400db15e2"
      },
      "outputs": [
        {
          "output_type": "stream",
          "name": "stdout",
          "text": [
            "[[84 50 68  8 99]\n",
            " [48  3 55 22 76]\n",
            " [29 84 72 44 22]\n",
            " [36 96 89 88 76]]\n"
          ]
        }
      ],
      "source": [
        "import numpy as np\n",
        "arr = np.random.randint(1, 100, (4, 5))\n",
        "print(arr)\n"
      ]
    },
    {
      "cell_type": "markdown",
      "source": [
        "**Reference**"
      ],
      "metadata": {
        "id": "X1dXHE6sV0yp"
      }
    },
    {
      "cell_type": "code",
      "source": [
        "arr2 = arr\n",
        "arr2[0,0]=0\n",
        "print(\"Array 2:\",arr2)\n",
        "print(\"Array 1:\",arr)"
      ],
      "metadata": {
        "colab": {
          "base_uri": "https://localhost:8080/"
        },
        "id": "-PwICRILYPMo",
        "outputId": "60d34ed2-92eb-4824-846e-9a8e8d5d67f6"
      },
      "execution_count": null,
      "outputs": [
        {
          "output_type": "stream",
          "name": "stdout",
          "text": [
            "Array 2: [[ 0 50 68  8 99]\n",
            " [48  3 55 22 76]\n",
            " [29 84 72 44 22]\n",
            " [36 96 89 88 76]]\n",
            "Array 1: [[ 0 50 68  8 99]\n",
            " [48  3 55 22 76]\n",
            " [29 84 72 44 22]\n",
            " [36 96 89 88 76]]\n"
          ]
        }
      ]
    },
    {
      "cell_type": "code",
      "source": [
        "arr3 = np.copy(arr)\n",
        "arr3[0,1]=0\n",
        "print(\"Array 3:\",arr3)\n",
        "print(\"Array 1:\",arr)"
      ],
      "metadata": {
        "colab": {
          "base_uri": "https://localhost:8080/"
        },
        "id": "HDlTCIJXWnUW",
        "outputId": "bc22d4e8-60e9-4566-e37d-2a314128d9d8"
      },
      "execution_count": null,
      "outputs": [
        {
          "output_type": "stream",
          "name": "stdout",
          "text": [
            "Array 3: [[ 0  0 68  8 99]\n",
            " [48  3 55 22 76]\n",
            " [29 84 72 44 22]\n",
            " [36 96 89 88 76]]\n",
            "Array 1: [[ 0 50 68  8 99]\n",
            " [48  3 55 22 76]\n",
            " [29 84 72 44 22]\n",
            " [36 96 89 88 76]]\n"
          ]
        }
      ]
    },
    {
      "cell_type": "code",
      "source": [
        "print(\"Shape:\", arr.shape)  # Expected Output: (4, 5) since our array has 4 rows and 5 columns.\n",
        "print(\"Size:\", arr.size)  # Expected Output: 20 (4 rows x 5 columns = 20 elements)\n",
        "print(\"Dimensions:\", arr.ndim)  # Expected Output: 2 (because it's a 2D array, or matrix)\n",
        "print(\"Data Type:\", arr.dtype)  # Likely Output: int32 or int64, depending on your platform\n",
        "print(\"Item size:\", arr.itemsize)\n",
        "print(\"Strides:\", arr.strides)"
      ],
      "metadata": {
        "colab": {
          "base_uri": "https://localhost:8080/"
        },
        "id": "NCvzLA8ER5xU",
        "outputId": "d8d45c1d-b8bb-48b7-ff79-d1562e243625"
      },
      "execution_count": null,
      "outputs": [
        {
          "output_type": "stream",
          "name": "stdout",
          "text": [
            "Shape: (4, 5)\n",
            "Size: 20\n",
            "Dimensions: 2\n",
            "Data Type: int64\n",
            "Item size: 8\n",
            "Strides: (40, 8)\n"
          ]
        }
      ]
    },
    {
      "cell_type": "markdown",
      "source": [
        "**Indexing and Slicing**"
      ],
      "metadata": {
        "id": "oCsuXvRTSLay"
      }
    },
    {
      "cell_type": "markdown",
      "source": [
        "\n",
        "\n",
        "```\n",
        "Basic Indexing\n",
        "For a 2D array, it's like accessing elements using [row, column].\n",
        "```\n",
        "\n"
      ],
      "metadata": {
        "id": "Jrj4OyheSSLs"
      }
    },
    {
      "cell_type": "code",
      "source": [
        "print(arr[1, 3])  # Accesses the element in the second row and fourth column\n"
      ],
      "metadata": {
        "colab": {
          "base_uri": "https://localhost:8080/"
        },
        "id": "PPIEwMOCSMZM",
        "outputId": "823f347e-904b-4bd4-9dec-b598c198c8bc"
      },
      "execution_count": null,
      "outputs": [
        {
          "output_type": "stream",
          "name": "stdout",
          "text": [
            "22\n"
          ]
        }
      ]
    },
    {
      "cell_type": "code",
      "source": [
        "# Let's consider a 3D array\n",
        "arr_3d = np.random.randint(1, 100, (3, 3, 3))\n",
        "print(\"3D Array:\\n\", arr_3d)\n",
        "print(\"\\nElement:\", arr_3d[1, 2, 0])\n"
      ],
      "metadata": {
        "colab": {
          "base_uri": "https://localhost:8080/"
        },
        "id": "MEM2z21kSXUu",
        "outputId": "82b1aaeb-d6bc-4979-ed59-335cfd8b8e84"
      },
      "execution_count": null,
      "outputs": [
        {
          "output_type": "stream",
          "name": "stdout",
          "text": [
            "3D Array:\n",
            " [[[99 27 20]\n",
            "  [80 53 49]\n",
            "  [77 88 36]]\n",
            "\n",
            " [[29 85 39]\n",
            "  [93 26 95]\n",
            "  [66 82 78]]\n",
            "\n",
            " [[85 59 31]\n",
            "  [26 29  3]\n",
            "  [36 76 80]]]\n",
            "\n",
            "Element: 66\n"
          ]
        }
      ]
    },
    {
      "cell_type": "markdown",
      "source": [
        "Slicing\n",
        "It's similar to Python list slicing but with more dimensions"
      ],
      "metadata": {
        "id": "a9QY6TW7SoUs"
      }
    },
    {
      "cell_type": "code",
      "source": [
        "print(arr_3d[1:3, 0:2, :])  # Extracts a sub-matrix from rows 2-3 and columns 3-5\n"
      ],
      "metadata": {
        "colab": {
          "base_uri": "https://localhost:8080/"
        },
        "id": "ga_cH00TSoDp",
        "outputId": "3d2e76d6-0dff-4efd-90d5-138499092b14"
      },
      "execution_count": null,
      "outputs": [
        {
          "output_type": "stream",
          "name": "stdout",
          "text": [
            "[[[29 85 39]\n",
            "  [93 26 95]]\n",
            "\n",
            " [[85 59 31]\n",
            "  [26 29  3]]]\n"
          ]
        }
      ]
    },
    {
      "cell_type": "code",
      "source": [
        "print(arr)"
      ],
      "metadata": {
        "colab": {
          "base_uri": "https://localhost:8080/"
        },
        "id": "pYNyEtMR2acJ",
        "outputId": "40c348cf-b56c-4c49-e31f-0c1ae861a289"
      },
      "execution_count": null,
      "outputs": [
        {
          "output_type": "stream",
          "name": "stdout",
          "text": [
            "[[ 0 50 68  8 99]\n",
            " [48  3 55 22 76]\n",
            " [29 84 72 44 22]\n",
            " [36 96 89 88 76]]\n"
          ]
        }
      ]
    },
    {
      "cell_type": "markdown",
      "source": [
        "**Fancy Indexing**"
      ],
      "metadata": {
        "id": "VfWSnxIZSw_k"
      }
    },
    {
      "cell_type": "code",
      "source": [
        "print(\"Rows 1 and 3:\\n\", arr[:,[0, 2]])  # Uses a list of integers for indexing\n",
        "\n",
        "# Let's filter values greater than 50\n",
        "print(\"\\nValues > 50:\\n\", arr[arr > 50])  # Uses a boolean array for indexing\n",
        "print(arr > 50)\n",
        "print(np.where(arr > 50))"
      ],
      "metadata": {
        "colab": {
          "base_uri": "https://localhost:8080/"
        },
        "id": "DHWk9kKESgDS",
        "outputId": "32fcb1dd-93e4-48c9-a7e8-25b65d3dbb66"
      },
      "execution_count": null,
      "outputs": [
        {
          "output_type": "stream",
          "name": "stdout",
          "text": [
            "Rows 1 and 3:\n",
            " [[ 0 68]\n",
            " [48 55]\n",
            " [29 72]\n",
            " [36 89]]\n",
            "\n",
            "Values > 50:\n",
            " [68 99 55 76 84 72 96 89 88 76]\n",
            "[[False False  True False  True]\n",
            " [False False  True False  True]\n",
            " [False  True  True False False]\n",
            " [False  True  True  True  True]]\n",
            "(array([0, 0, 1, 1, 2, 2, 3, 3, 3, 3]), array([2, 4, 2, 4, 1, 2, 1, 2, 3, 4]))\n"
          ]
        }
      ]
    },
    {
      "cell_type": "markdown",
      "source": [
        "**Reshaping and Transposing**"
      ],
      "metadata": {
        "id": "WfbgDUa6TbCn"
      }
    },
    {
      "cell_type": "code",
      "source": [
        "arr = np.arange(1, 13)\n",
        "print(\"Original array:\\n\", arr)\n",
        "\n",
        "reshaped_arr = arr.reshape(3, 4)\n",
        "print(\"\\nReshaped array (3x4):\\n\", reshaped_arr)\n"
      ],
      "metadata": {
        "colab": {
          "base_uri": "https://localhost:8080/"
        },
        "id": "roWhL6AHS36K",
        "outputId": "2b74d38c-16d7-45ef-9f63-aabb4acc75b9"
      },
      "execution_count": null,
      "outputs": [
        {
          "output_type": "stream",
          "name": "stdout",
          "text": [
            "Original array:\n",
            " [ 1  2  3  4  5  6  7  8  9 10 11 12]\n",
            "\n",
            "Reshaped array (3x4):\n",
            " [[ 1  2  3  4]\n",
            " [ 5  6  7  8]\n",
            " [ 9 10 11 12]]\n"
          ]
        }
      ]
    },
    {
      "cell_type": "code",
      "source": [
        "transposed = reshaped_arr.T\n",
        "print(\"\\nTransposed array:\\n\", transposed)\n"
      ],
      "metadata": {
        "colab": {
          "base_uri": "https://localhost:8080/"
        },
        "id": "N_y8ypjjTfOL",
        "outputId": "163153c4-3cdb-4077-baf4-e1e2eb94a43a"
      },
      "execution_count": null,
      "outputs": [
        {
          "output_type": "stream",
          "name": "stdout",
          "text": [
            "\n",
            "Transposed array:\n",
            " [[ 1  5  9]\n",
            " [ 2  6 10]\n",
            " [ 3  7 11]\n",
            " [ 4  8 12]]\n"
          ]
        }
      ]
    },
    {
      "cell_type": "code",
      "source": [
        "arr_2d = reshaped_arr[ :,:,np.newaxis]\n",
        "print(\"\\n2D array using newaxis:\\n\", arr_2d)\n",
        "print(arr_2d.shape)"
      ],
      "metadata": {
        "colab": {
          "base_uri": "https://localhost:8080/"
        },
        "id": "rBKUFpkfTmCZ",
        "outputId": "3d5a9c6c-c607-496f-d189-d0cb5ea91c0c"
      },
      "execution_count": null,
      "outputs": [
        {
          "output_type": "stream",
          "name": "stdout",
          "text": [
            "\n",
            "2D array using newaxis:\n",
            " [[[ 1]\n",
            "  [ 2]\n",
            "  [ 3]\n",
            "  [ 4]]\n",
            "\n",
            " [[ 5]\n",
            "  [ 6]\n",
            "  [ 7]\n",
            "  [ 8]]\n",
            "\n",
            " [[ 9]\n",
            "  [10]\n",
            "  [11]\n",
            "  [12]]]\n",
            "(3, 4, 1)\n"
          ]
        }
      ]
    },
    {
      "cell_type": "markdown",
      "source": [
        "**Universal Functions (ufuncs)**\n",
        "Fast Element-wise Operations"
      ],
      "metadata": {
        "id": "5z9sunvqUIVg"
      }
    },
    {
      "cell_type": "code",
      "source": [
        "arr = np.array([1, 2, 3, 4, 5])\n",
        "print(\"Original array:\", arr)\n",
        "print(\"Array + 5:\", arr + 5)\n",
        "print(\"Array squared:\", np.square(arr))\n",
        "print(\"Sin of array:\", np.sin(arr))\n",
        "print(\"Log of array:\", np.log(arr))\n",
        "print(\"Exponential of array:\", np.exp(arr))\n"
      ],
      "metadata": {
        "id": "Eu4I9hE-Toze"
      },
      "execution_count": null,
      "outputs": []
    },
    {
      "cell_type": "markdown",
      "source": [
        "**Aggregations**\n",
        "Sum, Min, Max"
      ],
      "metadata": {
        "id": "rprZmXGlUT8B"
      }
    },
    {
      "cell_type": "code",
      "source": [
        "arr_2d = np.random.randint(1, 50, (4, 5))\n",
        "print(\"2D array:\\n\", arr_2d)\n",
        "print(\"\\nSum:\", np.sum(arr_2d))\n",
        "print(\"Min:\", np.min(arr_2d))\n",
        "print(\"Max:\", np.max(arr_2d))\n",
        "print(\"Sum along columns (axis=0):\", np.sum(arr_2d, axis=0))\n",
        "print(\"Sum along rows (axis=1):\", np.sum(arr_2d, axis=1))\n",
        "\n",
        "print(\"Mean:\", np.mean(arr_2d))\n",
        "print(\"Median:\", np.median(arr_2d))\n"
      ],
      "metadata": {
        "id": "CdqY30MsUO9h"
      },
      "execution_count": null,
      "outputs": []
    },
    {
      "cell_type": "markdown",
      "source": [
        "**Vectorization**"
      ],
      "metadata": {
        "id": "z5wkRRAho3np"
      }
    },
    {
      "cell_type": "code",
      "source": [
        "def my_function(x):\n",
        "    if x % 2 == 0:\n",
        "        return x/2\n",
        "    else:\n",
        "        return x*2\n",
        "\n",
        "my_function = np.vectorize(my_function)\n",
        "result = my_function(np.array([1, 2, 3, 4]))\n",
        "print(result)"
      ],
      "metadata": {
        "colab": {
          "base_uri": "https://localhost:8080/"
        },
        "id": "kUYW-4I1o6wt",
        "outputId": "b15229f7-60a6-4209-e9a1-b8ec05b91acf"
      },
      "execution_count": null,
      "outputs": [
        {
          "output_type": "stream",
          "name": "stdout",
          "text": [
            "[2 1 6 2]\n"
          ]
        }
      ]
    },
    {
      "cell_type": "markdown",
      "source": [
        "**Broadcasting**\n",
        "\n",
        "\n",
        "```\n",
        "Rules of Broadcasting\n",
        "\n",
        "If the arrays differ in their number of dimensions, the shape of the one with fewer dimensions is padded with ones on its left side.\n",
        "If the shape of the two arrays does not match in any dimension, the array with shape equal to 1 in that dimension is stretched to match the other shape.\n",
        "If in any dimension the sizes disagree and neither is equal to 1, an error is raised.\n",
        "```\n",
        "\n"
      ],
      "metadata": {
        "id": "THCRB6AuUlLf"
      }
    },
    {
      "cell_type": "code",
      "source": [
        "# Broadcasting in action\n",
        "A = np.array([[1, 2], [3, 4], [5, 6]])\n",
        "B = np.array([0, 1])\n",
        "print(\"Shape of A:\", A.shape)\n",
        "print(\"A:\\n\", A)\n",
        "print(\"Shape of B:\", B.shape)\n",
        "print(\"B:\\n\", B)\n",
        "\n",
        "\n",
        "result = A + B  # Broadcasting happens here\n",
        "print(\"\\nResult:\\n\", result)\n",
        "\n"
      ],
      "metadata": {
        "colab": {
          "base_uri": "https://localhost:8080/"
        },
        "id": "xlgtB7UbUcFD",
        "outputId": "b3546fd4-1910-4f8f-9dc4-c5ee101910f1"
      },
      "execution_count": null,
      "outputs": [
        {
          "output_type": "stream",
          "name": "stdout",
          "text": [
            "Shape of A: (3, 2)\n",
            "A:\n",
            " [[1 2]\n",
            " [3 4]\n",
            " [5 6]]\n",
            "Shape of B: (2,)\n",
            "B:\n",
            " [0 1]\n",
            "\n",
            "Result:\n",
            " [[1 3]\n",
            " [3 5]\n",
            " [5 7]]\n"
          ]
        }
      ]
    },
    {
      "cell_type": "markdown",
      "source": [
        "\n",
        "\n",
        "```\n",
        "Rule 1: Number of dimensions:\n",
        "  A is 2D (3x2)\n",
        "  B is 1D (2,)\n",
        "  Pad the shape of B with ones on the left: B becomes (1, 2)\n",
        "Rule 2: Shape doesn't match:\n",
        "  Compare the dimensions of A (3x2) and B (1x2):\n",
        "  For the first dimension: 3 != 1. Hence, B is stretched in this dimension.\n",
        "  For the second dimension: 2 == 2. Shapes match, so no changes here.\n",
        "  After stretching, B's shape is effectively (3, 2).\n",
        "Rule 3:\n",
        "  There are no dimensions where sizes disagree without one of them being 1. So, broadcasting is feasible.\n",
        "```\n",
        "\n"
      ],
      "metadata": {
        "id": "BEM93pYZV6Kz"
      }
    },
    {
      "cell_type": "code",
      "source": [
        "A = np.ones((3, 2))\n",
        "B = np.arange(3)\n",
        "\n",
        "print(\"Shape of A:\", A.shape)\n",
        "print(\"A:\\n\", A)\n",
        "print(\"Shape of B:\", B.shape)\n",
        "print(\"B:\\n\", B)\n",
        "\n",
        "result = A + B\n",
        "print(\"\\nResult:\\n\", result)\n"
      ],
      "metadata": {
        "colab": {
          "base_uri": "https://localhost:8080/",
          "height": 367
        },
        "id": "8r4P-mrxUv4A",
        "outputId": "2d0d5f0e-69d4-414d-aa1e-46482d472150"
      },
      "execution_count": null,
      "outputs": [
        {
          "output_type": "stream",
          "name": "stdout",
          "text": [
            "Shape of A: (3, 2)\n",
            "A:\n",
            " [[1. 1.]\n",
            " [1. 1.]\n",
            " [1. 1.]]\n",
            "Shape of B: (3,)\n",
            "B:\n",
            " [0 1 2]\n"
          ]
        },
        {
          "output_type": "error",
          "ename": "ValueError",
          "evalue": "ignored",
          "traceback": [
            "\u001b[0;31m---------------------------------------------------------------------------\u001b[0m",
            "\u001b[0;31mValueError\u001b[0m                                Traceback (most recent call last)",
            "\u001b[0;32m<ipython-input-77-e2d9b4835ea0>\u001b[0m in \u001b[0;36m<cell line: 9>\u001b[0;34m()\u001b[0m\n\u001b[1;32m      7\u001b[0m \u001b[0mprint\u001b[0m\u001b[0;34m(\u001b[0m\u001b[0;34m\"B:\\n\"\u001b[0m\u001b[0;34m,\u001b[0m \u001b[0mB\u001b[0m\u001b[0;34m)\u001b[0m\u001b[0;34m\u001b[0m\u001b[0;34m\u001b[0m\u001b[0m\n\u001b[1;32m      8\u001b[0m \u001b[0;34m\u001b[0m\u001b[0m\n\u001b[0;32m----> 9\u001b[0;31m \u001b[0mresult\u001b[0m \u001b[0;34m=\u001b[0m \u001b[0mA\u001b[0m \u001b[0;34m+\u001b[0m \u001b[0mB\u001b[0m\u001b[0;34m\u001b[0m\u001b[0;34m\u001b[0m\u001b[0m\n\u001b[0m\u001b[1;32m     10\u001b[0m \u001b[0mprint\u001b[0m\u001b[0;34m(\u001b[0m\u001b[0;34m\"\\nResult:\\n\"\u001b[0m\u001b[0;34m,\u001b[0m \u001b[0mresult\u001b[0m\u001b[0;34m)\u001b[0m\u001b[0;34m\u001b[0m\u001b[0;34m\u001b[0m\u001b[0m\n",
            "\u001b[0;31mValueError\u001b[0m: operands could not be broadcast together with shapes (3,2) (3,) "
          ]
        }
      ]
    },
    {
      "cell_type": "markdown",
      "source": [
        "Error - ValueError: operands could not be broadcast together with shapes (3,2) (3,)"
      ],
      "metadata": {
        "id": "ezEjOe-gbXzT"
      }
    },
    {
      "cell_type": "markdown",
      "source": [
        "**Boolean Operations and Masks**"
      ],
      "metadata": {
        "id": "8UZM4y35XQR_"
      }
    },
    {
      "cell_type": "code",
      "source": [
        "arr = np.array([1, 2, 3, 4, 5])\n",
        "print(arr > 3)  # Outputs: [False, False, False, True, True]\n",
        "\n",
        "filtered_arr = arr[arr > 3]\n",
        "print(filtered_arr)  # Outputs: [4, 5]\n",
        "\n",
        "count = np.sum(arr > 3)\n",
        "print(count)  # Outputs: 2 (because two numbers are greater than 3)\n"
      ],
      "metadata": {
        "id": "tEHzFMq_WJVu"
      },
      "execution_count": null,
      "outputs": []
    },
    {
      "cell_type": "markdown",
      "source": [
        "**Sorting**"
      ],
      "metadata": {
        "id": "vBBnpvgXXX7f"
      }
    },
    {
      "cell_type": "code",
      "source": [
        "# Sort vs ArgSort\n",
        "arr = np.array([2, 1, 5, 3, 4])\n",
        "sorted_arr = np.sort(arr)\n",
        "print(sorted_arr)\n",
        "\n",
        "sorted_indices = np.argsort(arr)\n",
        "print(sorted_indices)\n"
      ],
      "metadata": {
        "colab": {
          "base_uri": "https://localhost:8080/"
        },
        "id": "9mLhyIsAXVsJ",
        "outputId": "24c1e4cd-538c-435c-c5ff-cc3b92394952"
      },
      "execution_count": null,
      "outputs": [
        {
          "output_type": "stream",
          "name": "stdout",
          "text": [
            "[1 2 3 4 5]\n",
            "[1 0 3 4 2]\n"
          ]
        }
      ]
    },
    {
      "cell_type": "code",
      "source": [
        "matrix = np.array([[2, 1], [5, 3], [1, 6]])\n",
        "sorted_matrix_col = np.sort(matrix, axis=0)  # Sort by columns\n",
        "sorted_matrix_row = np.sort(matrix, axis=1)  # Sort by rows\n",
        "print(\"Sorted by columns:\\n\", sorted_matrix_col)\n",
        "print(\"Sorted by rows:\\n\", sorted_matrix_row)\n"
      ],
      "metadata": {
        "colab": {
          "base_uri": "https://localhost:8080/"
        },
        "id": "RRONY9iKXdFS",
        "outputId": "ccbebe1e-3ee8-4a17-fb60-14826f37f7c6"
      },
      "execution_count": null,
      "outputs": [
        {
          "output_type": "stream",
          "name": "stdout",
          "text": [
            "Sorted by columns:\n",
            " [[1 1]\n",
            " [2 3]\n",
            " [5 6]]\n",
            "Sorted by rows:\n",
            " [[1 2]\n",
            " [3 5]\n",
            " [1 6]]\n"
          ]
        }
      ]
    },
    {
      "cell_type": "markdown",
      "source": [
        "**Linear Algebra with NumPy**"
      ],
      "metadata": {
        "id": "P0_XJHgdXntl"
      }
    },
    {
      "cell_type": "code",
      "source": [
        "A = np.array([[1, 2], [3, 4]])\n",
        "B = np.array([[2, 0], [0, 2]])\n",
        "result = np.dot(A, B)\n",
        "print(result)  # Outputs: [[2, 4], [6, 8]]\n"
      ],
      "metadata": {
        "colab": {
          "base_uri": "https://localhost:8080/"
        },
        "id": "0SP2iJGlXf2r",
        "outputId": "c923ba46-161c-466b-a428-01a623876a03"
      },
      "execution_count": null,
      "outputs": [
        {
          "output_type": "stream",
          "name": "stdout",
          "text": [
            "[[2 4]\n",
            " [6 8]]\n"
          ]
        }
      ]
    },
    {
      "cell_type": "code",
      "source": [
        "# Determinant\n",
        "det = np.linalg.det(A)\n",
        "print(\"Determinant:\", det)\n",
        "\n",
        "# Inverse\n",
        "inverse = np.linalg.inv(A)\n",
        "print(\"Inverse:\\n\", inverse)\n",
        "\n",
        "eigenvalues, eigenvectors = np.linalg.eig(A)\n",
        "print(\"Eigenvalues:\", eigenvalues)\n",
        "print(\"Eigenvectors:\\n\", eigenvectors)\n"
      ],
      "metadata": {
        "colab": {
          "base_uri": "https://localhost:8080/"
        },
        "id": "GIPeuF1UXtT0",
        "outputId": "31bc2bab-b5d6-4b33-ff9b-40020b1f767a"
      },
      "execution_count": null,
      "outputs": [
        {
          "output_type": "stream",
          "name": "stdout",
          "text": [
            "Determinant: -2.0000000000000004\n",
            "Inverse:\n",
            " [[-2.   1. ]\n",
            " [ 1.5 -0.5]]\n",
            "Eigenvalues: [-0.37228132  5.37228132]\n",
            "Eigenvectors:\n",
            " [[-0.82456484 -0.41597356]\n",
            " [ 0.56576746 -0.90937671]]\n"
          ]
        }
      ]
    },
    {
      "cell_type": "code",
      "source": [
        "print(hist, bins)"
      ],
      "metadata": {
        "colab": {
          "base_uri": "https://localhost:8080/"
        },
        "id": "6zpbm89v7ETk",
        "outputId": "e4af6b1f-2885-459f-b8f7-aab83b30eed9"
      },
      "execution_count": null,
      "outputs": [
        {
          "output_type": "stream",
          "name": "stdout",
          "text": [
            "[ 2  0  0  1  3  3  2  6 13  9 11 17 14 23 30 16 29 32 46 39 37 48 47 57\n",
            " 55 44 35 44 46 40 40 38 30 23 17 17 16 17 16 12  9  1  4  6  1  0  2  0\n",
            "  1  1] [-3.05842885 -2.93231759 -2.80620633 -2.68009506 -2.5539838  -2.42787254\n",
            " -2.30176128 -2.17565002 -2.04953876 -1.9234275  -1.79731624 -1.67120498\n",
            " -1.54509372 -1.41898246 -1.29287119 -1.16675993 -1.04064867 -0.91453741\n",
            " -0.78842615 -0.66231489 -0.53620363 -0.41009237 -0.28398111 -0.15786985\n",
            " -0.03175859  0.09435268  0.22046394  0.3465752   0.47268646  0.59879772\n",
            "  0.72490898  0.85102024  0.9771315   1.10324276  1.22935402  1.35546528\n",
            "  1.48157655  1.60768781  1.73379907  1.85991033  1.98602159  2.11213285\n",
            "  2.23824411  2.36435537  2.49046663  2.61657789  2.74268915  2.86880042\n",
            "  2.99491168  3.12102294  3.2471342 ]\n"
          ]
        }
      ]
    },
    {
      "cell_type": "code",
      "source": [
        "import matplotlib.pyplot as plt\n",
        "\n",
        "data = np.random.randn(1000)\n",
        "hist, bins = np.histogram(data, bins=50)\n",
        "plt.hist(data, bins=bins, alpha=0.8, color='b')\n",
        "plt.title(\"Histogram\")\n",
        "plt.show()\n"
      ],
      "metadata": {
        "colab": {
          "base_uri": "https://localhost:8080/",
          "height": 452
        },
        "id": "q69lty38Xwss",
        "outputId": "602d43a1-78fa-4ef1-8b16-cdb4324ae857"
      },
      "execution_count": null,
      "outputs": [
        {
          "output_type": "display_data",
          "data": {
            "text/plain": [
              "<Figure size 640x480 with 1 Axes>"
            ],
            "image/png": "[encoded data removed]"
          },
          "metadata": {}
        }
      ]
    },
    {
      "cell_type": "markdown",
      "source": [
        "**Itertools**\n"
      ],
      "metadata": {
        "id": "zwqYzi5uBe40"
      }
    },
    {
      "cell_type": "code",
      "source": [
        "import itertools\n",
        "\n",
        "# Infinite Iterators\n",
        "print(\"Count\")\n",
        "for i in itertools.islice(itertools.count(10, 10), 5):\n",
        "    print(i, end=\" \")\n",
        "# Outputs: 10, 20, 30, 40, 50\n",
        "\n",
        "print(\"\\n\\n Cycle\")\n",
        "counter = 0\n",
        "for item in itertools.cycle(\"ABC\"):\n",
        "    if counter > 5:\n",
        "        break\n",
        "    print(item, end=\" \")\n",
        "    counter += 1\n",
        "# Output: A, B, C, A, B, C\n",
        "\n",
        "# Combinatoric Iterators\n",
        "\n",
        "print(\"\\n\\n Products\")\n",
        "for pair in itertools.product('AB', repeat=2):\n",
        "    print(pair, end=\" \")\n",
        "# Output: ('A', 'A'), ('A', 'B'), ('B', 'A'), ('B', 'B')\n",
        "\n",
        "print(\"\\n\\n Permutations\")\n",
        "for pair in itertools.permutations([1, 2, 3], 2):\n",
        "    print(pair, end=\" \")\n",
        "# Outputs: (1, 2), (1, 3), (2, 1), (2, 3), (3, 1), (3, 2)\n",
        "\n",
        "\n",
        "\n",
        "# Filtering Iterators\n",
        "print(\"\\n\\n Takewhile\")\n",
        "data = [1, 2, 3, 4, 5, 6]\n",
        "less_than_four = list(itertools.takewhile(lambda x: x < 4, data))\n",
        "print(less_than_four, end = ' ')  # Outputs: [1, 2, 3]\n",
        "\n",
        "# Chain and Group Iterators\n",
        "print(\"\\n\\n Chain\")\n",
        "for char in itertools.chain(\"ABC\", \"DEF\"):\n",
        "    print(char, end = ' ')\n",
        "# Outputs: A, B, C, D, E, F\n",
        "\n",
        "# Group by iterators\n",
        "print(\"\\n\\n Groupby\")\n",
        "animals = [\"dog\", \"cat\", \"tiger\", \"elephant\"]\n",
        "for key, group in itertools.groupby(animals, key=len):\n",
        "    print(key, list(group))\n",
        "# Outputs:\n",
        "# 3 ['dog', 'cat']\n",
        "# 5 ['tiger']\n",
        "# 8 ['elephant']\n"
      ],
      "metadata": {
        "id": "zWoH5NLnByE1"
      },
      "execution_count": null,
      "outputs": []
    },
    {
      "cell_type": "markdown",
      "source": [
        "**Review**"
      ],
      "metadata": {
        "id": "yRPzZU9RY_4F"
      }
    },
    {
      "cell_type": "code",
      "source": [
        "np.array([[0, 0], [0, 0]])"
      ],
      "metadata": {
        "colab": {
          "base_uri": "https://localhost:8080/"
        },
        "id": "Fc_-miqp7Yu_",
        "outputId": "6f3c6e01-940c-469d-929c-2140bbe42506"
      },
      "execution_count": null,
      "outputs": [
        {
          "output_type": "execute_result",
          "data": {
            "text/plain": [
              "array([[0, 0],\n",
              "       [0, 0]])"
            ]
          },
          "metadata": {},
          "execution_count": 87
        }
      ]
    },
    {
      "cell_type": "code",
      "source": [
        "# Which of the following will create a 2x2 NumPy array of all zeros?\n",
        "\n",
        "# a) np.zeros(2, 2)\n",
        "# b) np.array([0, 0], [0, 0])\n",
        "# c) np.zeros([2, 2])\n",
        "# d) np.array([[0, 0], [0, 0]])\n"
      ],
      "metadata": {
        "id": "ekSbAp3jZAc5"
      },
      "execution_count": null,
      "outputs": []
    },
    {
      "cell_type": "code",
      "source": [
        "np.ones(3) + np.ones(4)"
      ],
      "metadata": {
        "colab": {
          "base_uri": "https://localhost:8080/",
          "height": 176
        },
        "id": "Oz6Wwd407tcS",
        "outputId": "7d8f17d4-92d9-45f0-e6b3-76d9e7f88468"
      },
      "execution_count": null,
      "outputs": [
        {
          "output_type": "error",
          "ename": "ValueError",
          "evalue": "ignored",
          "traceback": [
            "\u001b[0;31m---------------------------------------------------------------------------\u001b[0m",
            "\u001b[0;31mValueError\u001b[0m                                Traceback (most recent call last)",
            "\u001b[0;32m<ipython-input-90-0f08e7991d55>\u001b[0m in \u001b[0;36m<cell line: 1>\u001b[0;34m()\u001b[0m\n\u001b[0;32m----> 1\u001b[0;31m \u001b[0mnp\u001b[0m\u001b[0;34m.\u001b[0m\u001b[0mones\u001b[0m\u001b[0;34m(\u001b[0m\u001b[0;36m3\u001b[0m\u001b[0;34m)\u001b[0m \u001b[0;34m+\u001b[0m \u001b[0mnp\u001b[0m\u001b[0;34m.\u001b[0m\u001b[0mones\u001b[0m\u001b[0;34m(\u001b[0m\u001b[0;36m4\u001b[0m\u001b[0;34m)\u001b[0m\u001b[0;34m\u001b[0m\u001b[0;34m\u001b[0m\u001b[0m\n\u001b[0m",
            "\u001b[0;31mValueError\u001b[0m: operands could not be broadcast together with shapes (3,) (4,) "
          ]
        }
      ]
    },
    {
      "cell_type": "code",
      "source": [
        "# Which operation will result in an error?\n",
        "\n",
        "# a) np.arange(5) + 5\n",
        "# b) np.ones(3) + np.ones(3)\n",
        "# c) np.ones(3) + np.ones(4)\n",
        "# d) np.ones(3) + 3"
      ],
      "metadata": {
        "id": "a--4uRl1ZCE9"
      },
      "execution_count": null,
      "outputs": []
    },
    {
      "cell_type": "code",
      "source": [
        "#  How can you reshape a 1D array a with 12 elements into a 4x3 2D array?\n",
        "\n",
        "# a) a.reshape(3, 4)\n",
        "# b) np.reshape(a, 3, 4)\n",
        "# c) a.reshape([4, 3])\n",
        "# d) np.reshape(a, [3, 4])"
      ],
      "metadata": {
        "id": "hja23HQXZnj_"
      },
      "execution_count": null,
      "outputs": []
    },
    {
      "cell_type": "code",
      "source": [
        "a.reshape(4,3)"
      ],
      "metadata": {
        "id": "7sraLD-e75WH"
      },
      "execution_count": null,
      "outputs": []
    },
    {
      "cell_type": "code",
      "source": [
        "#  Which function is used to calculate the dot product of two arrays?\n",
        "\n",
        "# a) np.dot()\n",
        "# b) np.cross()\n",
        "# c) np.prod()\n",
        "# d) np.multiply()"
      ],
      "metadata": {
        "id": "lRWLMC7xZsIt"
      },
      "execution_count": null,
      "outputs": []
    },
    {
      "cell_type": "code",
      "source": [
        "# Given two arrays a = np.array([1,2,3]) and b = np.array([4,5]), which operation will result in a broadcasting error?\n",
        "\n",
        "# a) a * b\n",
        "# b) a + b[:, np.newaxis]"
      ],
      "metadata": {
        "id": "klnSrJEVZvRh"
      },
      "execution_count": null,
      "outputs": []
    },
    {
      "cell_type": "code",
      "source": [
        "a = np.array([1,2,3])\n",
        "b = np.array([4,5])\n",
        "\n",
        "c= b[:, np.newaxis]\n",
        "# print(a, c.shape)\n",
        "# a*b\n",
        "a+ b[:, np.newaxis]"
      ],
      "metadata": {
        "colab": {
          "base_uri": "https://localhost:8080/"
        },
        "id": "-t5_H6UGAFRn",
        "outputId": "9c9c8c1c-0c40-4191-c561-3d46089cfed7"
      },
      "execution_count": null,
      "outputs": [
        {
          "output_type": "execute_result",
          "data": {
            "text/plain": [
              "array([[5, 6, 7],\n",
              "       [6, 7, 8]])"
            ]
          },
          "metadata": {},
          "execution_count": 97
        }
      ]
    },
    {
      "cell_type": "code",
      "source": [
        "# Which of the following is correct when reshaping a 3x4 array to have 6 rows?\n",
        "\n",
        "# a) arr.reshape(6, -1)\n",
        "# b) arr.reshape(6, 2)\n",
        "# c) Both a and b\n",
        "# d) Neither a nor b"
      ],
      "metadata": {
        "id": "ICiL9hG_aDUZ"
      },
      "execution_count": null,
      "outputs": []
    },
    {
      "cell_type": "code",
      "source": [
        "#  You have a 2D array, data. Which of the following will get you the number of rows in the array?\n",
        "\n",
        "# a) len(data)\n",
        "# b) data.shape[0]\n",
        "# c) data.size\n",
        "# d) Both a and b"
      ],
      "metadata": {
        "id": "dORTuXyraMyk"
      },
      "execution_count": null,
      "outputs": []
    },
    {
      "cell_type": "code",
      "source": [
        "# What does the axis parameter specify in NumPy functions?\n",
        "\n",
        "# a) The shape of the output array.\n",
        "# b) The depth of an array.\n",
        "# c) The dimension along which the operation is applied.\n",
        "# d) The type of operation."
      ],
      "metadata": {
        "id": "DymBmBddaTOj"
      },
      "execution_count": null,
      "outputs": []
    },
    {
      "cell_type": "code",
      "source": [
        "#Given the 2D array arr = np.array([[1, 2, 3], [4, 5, 6], [7, 8, 9]]), what does arr[1:, :2] result in?\n",
        "\n",
        "# a) array([[4, 5], [7, 8]])\n",
        "# b) array([[2, 3], [5, 6]])\n",
        "# c) array([[4, 5, 6], [7, 8, 9]])\n",
        "# d) array([[5, 6], [8, 9]])"
      ],
      "metadata": {
        "id": "-LC49HgKagQO"
      },
      "execution_count": null,
      "outputs": []
    },
    {
      "cell_type": "code",
      "source": [
        "# Which of the following can be used to compute the dot product of two 1D arrays, a and b?\n",
        "\n",
        "# a) np.dot(a, b)\n",
        "# b) a @ b\n",
        "# c) np.multiply(a, b)\n",
        "# d) Both a and b"
      ],
      "metadata": {
        "id": "RmO3rt1FakWt"
      },
      "execution_count": null,
      "outputs": []
    },
    {
      "cell_type": "code",
      "source": [
        "# Given arr1 = np.array([1, 2, 3]) and arr2 = np.array([[1], [2], [3]]), which operation will raise a ValueError due to broadcasting rules?\n",
        "\n",
        "# a) arr1 + arr2\n",
        "# b) arr1 * arr2\n",
        "# c) arr1 - arr2.T\n",
        "# d) None of the above"
      ],
      "metadata": {
        "id": "06KEW-3_a3TH"
      },
      "execution_count": null,
      "outputs": []
    },
    {
      "cell_type": "code",
      "source": [
        "# If you wish to replace all negative values in an array with zeros, which function would you use?\n",
        "\n",
        "# a) np.zero_out()\n",
        "# b) np.clip()\n",
        "# c) np.where()\n",
        "# d) np.set_to_zero()"
      ],
      "metadata": {
        "id": "aJkSnUkLa7by"
      },
      "execution_count": null,
      "outputs": []
    },
    {
      "cell_type": "code",
      "source": [
        "#  Consider two 1D NumPy arrays, a [1, 2, 3]and b [5, 6, 7]. What does a * b produce?\n",
        "\n",
        "# a) [5, 12, 21]\n",
        "# b) 38\n",
        "# c) [38]\n",
        "# d) (5, 12, 21)"
      ],
      "metadata": {
        "id": "bodNRJTtpr_M"
      },
      "execution_count": null,
      "outputs": []
    },
    {
      "cell_type": "code",
      "source": [
        "a = np.array([1, 2, 3])\n",
        "b = np.array([5, 6, 7])\n",
        "print(a*b)"
      ],
      "metadata": {
        "colab": {
          "base_uri": "https://localhost:8080/"
        },
        "id": "3qJ2ZWZwqDhS",
        "outputId": "7e641250-18e9-4537-e3be-3c3b6afd2bcd"
      },
      "execution_count": null,
      "outputs": [
        {
          "output_type": "stream",
          "name": "stdout",
          "text": [
            "38\n"
          ]
        }
      ]
    },
    {
      "cell_type": "code",
      "source": [
        "#  Consider two 1D NumPy arrays, a and b. If a * b produces [5, 12, 21], what will a.dot(b) produce?\n",
        "\n",
        "# a) [5, 12, 21]\n",
        "# b) 38\n",
        "# c) An error\n",
        "# d) None of the above"
      ],
      "metadata": {
        "id": "7_0sr_Rgpq1N"
      },
      "execution_count": null,
      "outputs": []
    }
  ]
}