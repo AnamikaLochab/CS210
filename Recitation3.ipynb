{
  "nbformat": 4,
  "nbformat_minor": 0,
  "metadata": {
    "colab": {
      "provenance": []
    },
    "kernelspec": {
      "name": "python3",
      "display_name": "Python 3"
    },
    "language_info": {
      "name": "python"
    }
  },
  "cells": [
    {
      "cell_type": "markdown",
      "source": [
        "File Input/Output :"
      ],
      "metadata": {
        "id": "7kx6KEkxNxat"
      }
    },
    {
      "cell_type": "markdown",
      "source": [
        "Let's create a file named example.txt and write some text to it. Then, we'll read the text and finally close the file.\n"
      ],
      "metadata": {
        "id": "EInSnW2Rf1Ao"
      }
    },
    {
      "cell_type": "markdown",
      "source": [
        "**Writing to a File**"
      ],
      "metadata": {
        "id": "ytOMeBzCgDZP"
      }
    },
    {
      "cell_type": "code",
      "source": [
        "# Open file in write mode, this will create the file if it doesn't exist\n",
        "with open(\"example.txt\", \"w\") as file:\n",
        "    # Write some text to the file\n",
        "    file.write(\"Hello, this is line 1.\\n\")\n",
        "    file.write(\"And this is line 2.\\n\")\n",
        "# File is automatically closed when exiting the 'with' block\n"
      ],
      "metadata": {
        "id": "hRdkwbPjQQ60"
      },
      "execution_count": null,
      "outputs": []
    },
    {
      "cell_type": "markdown",
      "source": [
        "Without newline"
      ],
      "metadata": {
        "id": "34eGUOvZgNpJ"
      }
    },
    {
      "cell_type": "code",
      "source": [
        "# Open file in write mode, this will create the file if it doesn't exist\n",
        "with open(\"example2.txt\", \"w\") as file:\n",
        "    # Write some text to the file\n",
        "    file.write(\"Hello, this is line 1.\")\n",
        "    file.write(\"And this is line 2.\")\n",
        "# File is automatically closed when exiting the 'with' block\n"
      ],
      "metadata": {
        "id": "suYP6QoygLl4"
      },
      "execution_count": null,
      "outputs": []
    },
    {
      "cell_type": "markdown",
      "source": [
        "**Reading from a File**"
      ],
      "metadata": {
        "id": "pSX6SZgJSBwq"
      }
    },
    {
      "cell_type": "code",
      "source": [
        "# Open file in read mode\n",
        "with open(\"example.txt\", \"r\") as file:\n",
        "    # Read the entire file content into a string\n",
        "    file_content = file.read()\n",
        "    print(\"Entire file content:\")\n",
        "    print(file_content)\n"
      ],
      "metadata": {
        "colab": {
          "base_uri": "https://localhost:8080/"
        },
        "id": "MMkfp2IPSDLI",
        "outputId": "cee0d463-1b89-4e18-a9e2-4a6c524db2f4"
      },
      "execution_count": null,
      "outputs": [
        {
          "output_type": "stream",
          "name": "stdout",
          "text": [
            "Entire file content:\n",
            "Hello, this is line 1.\n",
            "And this is line 2.\n",
            "\n"
          ]
        }
      ]
    },
    {
      "cell_type": "code",
      "source": [
        "# Open file in read mode\n",
        "with open(\"example2.txt\", \"r\") as file:\n",
        "    # Read the entire file content into a string\n",
        "    file_content = file.read()\n",
        "    print(\"Entire file content:\")\n",
        "    print(file_content)\n"
      ],
      "metadata": {
        "colab": {
          "base_uri": "https://localhost:8080/"
        },
        "id": "1yKWGhIrgKGz",
        "outputId": "3b5f2402-2382-434e-b85c-ece9d0b8bdba"
      },
      "execution_count": null,
      "outputs": [
        {
          "output_type": "stream",
          "name": "stdout",
          "text": [
            "Entire file content:\n",
            "Hello, this is line 1.And this is line 2.\n"
          ]
        }
      ]
    },
    {
      "cell_type": "markdown",
      "source": [
        "**Reading Line-by-Line**"
      ],
      "metadata": {
        "id": "SWDkxxlwhCRr"
      }
    },
    {
      "cell_type": "code",
      "source": [
        "# Open file in read mode\n",
        "with open(\"example.txt\", \"r\") as file:\n",
        "    # Read file line-by-line\n",
        "    print(\"Reading line-by-line:\")\n",
        "    for line in file:\n",
        "        print(line, end='')  # the 'end=\"\"' removes extra newline character\n"
      ],
      "metadata": {
        "colab": {
          "base_uri": "https://localhost:8080/"
        },
        "id": "LBI5tn-rgXq7",
        "outputId": "b5307383-44de-4c50-b721-44ac1834db0b"
      },
      "execution_count": null,
      "outputs": [
        {
          "output_type": "stream",
          "name": "stdout",
          "text": [
            "Reading line-by-line:\n",
            "Hello, this is line 1.\n",
            "And this is line 2.\n"
          ]
        }
      ]
    },
    {
      "cell_type": "markdown",
      "source": [
        "**Collections Library**"
      ],
      "metadata": {
        "id": "V2h5A8tJln7V"
      }
    },
    {
      "cell_type": "markdown",
      "source": [
        "**namedtuple** is used to create tuple-like classes that have fields accessible by attribute lookup. They're similar to tuples but more readable."
      ],
      "metadata": {
        "id": "dFDeImePlrGk"
      }
    },
    {
      "cell_type": "code",
      "source": [
        "from collections import namedtuple\n",
        "\n",
        "# Define a named tuple class called 'Point'\n",
        "Point = namedtuple('Point', 'x y z')\n",
        "\n",
        "# Create an instance of Point\n",
        "p = Point(1, 2)\n",
        "\n",
        "# Access the fields\n",
        "print(p.x)  # Output: 1\n",
        "print(p.y)  # Output: 2\n"
      ],
      "metadata": {
        "id": "RDS7WPLxhKC3"
      },
      "execution_count": null,
      "outputs": []
    },
    {
      "cell_type": "markdown",
      "source": [
        "Dict to Tuple"
      ],
      "metadata": {
        "id": "WFDbFuKnpBEy"
      }
    },
    {
      "cell_type": "code",
      "source": [
        "import sys"
      ],
      "metadata": {
        "id": "oO6ckGenpHL_"
      },
      "execution_count": null,
      "outputs": []
    },
    {
      "cell_type": "code",
      "source": [
        "Person = namedtuple('Person', ['name', 'age'])\n",
        "person_dict = {'name': 'Alice', 'age': 30}\n",
        "person_tuple = Person(**person_dict)\n",
        "print(\"Memory size of namedtuple:\", sys.getsizeof(person_tuple))\n",
        "print(\"Memory size of dict:\", sys.getsizeof(person_dict))\n"
      ],
      "metadata": {
        "colab": {
          "base_uri": "https://localhost:8080/"
        },
        "id": "0MtTWb60pAyk",
        "outputId": "4b4f3e59-2bd0-4f6c-c1b2-7dc25cc78ab2"
      },
      "execution_count": null,
      "outputs": [
        {
          "output_type": "stream",
          "name": "stdout",
          "text": [
            "Memory size of namedtuple: 56\n",
            "Memory size of dict: 232\n"
          ]
        }
      ]
    },
    {
      "cell_type": "code",
      "source": [
        "person_tuple._replace(age=50)"
      ],
      "metadata": {
        "colab": {
          "base_uri": "https://localhost:8080/"
        },
        "id": "r_6sLaxcpOo8",
        "outputId": "d42af924-e42a-486c-db88-e9d255eb232c"
      },
      "execution_count": null,
      "outputs": [
        {
          "output_type": "execute_result",
          "data": {
            "text/plain": [
              "Person(name='Alice', age=50)"
            ]
          },
          "metadata": {},
          "execution_count": 36
        }
      ]
    },
    {
      "cell_type": "markdown",
      "source": [
        "A **deque** (double-ended queue) is like a list but optimized for appending and popping from both ends."
      ],
      "metadata": {
        "id": "_Kf9S1YWl9j6"
      }
    },
    {
      "cell_type": "code",
      "source": [
        "from collections import deque\n",
        "\n",
        "# Create a deque\n",
        "dq = deque([1, 2, 3])\n",
        "\n",
        "# Append to the left\n",
        "dq.appendleft(0)\n",
        "print(dq)  # Output: deque([0, 1, 2, 3])\n",
        "\n",
        "# Pop from the right\n",
        "dq.pop()\n",
        "print(dq)  # Output: deque([0, 1, 2])\n"
      ],
      "metadata": {
        "colab": {
          "base_uri": "https://localhost:8080/"
        },
        "id": "hvsGzvmVl9Ig",
        "outputId": "ab2187a4-d423-45a5-84f4-94dec3d17b5f"
      },
      "execution_count": null,
      "outputs": [
        {
          "output_type": "stream",
          "name": "stdout",
          "text": [
            "deque([0, 1, 2, 3])\n",
            "deque([0, 1, 2])\n"
          ]
        }
      ]
    },
    {
      "cell_type": "markdown",
      "source": [
        "**Counter** is a dictionary subclass for counting hashable objects. It's a collection where elements are stored as keys and their counts are stored as values."
      ],
      "metadata": {
        "id": "2oTXUlhLmHhG"
      }
    },
    {
      "cell_type": "code",
      "source": [
        "from collections import Counter\n",
        "\n",
        "# Count the occurrences of each character in a string\n",
        "c = Counter(\"abracadabra\")\n",
        "print(c)  # Output: Counter({'a': 5, 'b': 2, 'r': 2, 'c': 1, 'd': 1})\n"
      ],
      "metadata": {
        "colab": {
          "base_uri": "https://localhost:8080/"
        },
        "id": "rGRYzvejmOCc",
        "outputId": "a7961f69-4174-4ce1-8a32-bef23e54d1cd"
      },
      "execution_count": null,
      "outputs": [
        {
          "output_type": "stream",
          "name": "stdout",
          "text": [
            "Counter({'a': 5, 'b': 2, 'r': 2, 'c': 1, 'd': 1})\n"
          ]
        }
      ]
    },
    {
      "cell_type": "code",
      "source": [
        "sentence = \"This is a sample sentence, and this sentence has some sample words like sentence and words.\"\n",
        "words = sentence.lower().replace(',', '').replace('.', '').split()\n",
        "print(words)\n",
        "word_count = Counter(words)\n",
        "print(word_count)"
      ],
      "metadata": {
        "colab": {
          "base_uri": "https://localhost:8080/"
        },
        "id": "U5DGNIt1p3vW",
        "outputId": "0fea9ea0-fd0a-4dd9-978e-0d9922fbd185"
      },
      "execution_count": null,
      "outputs": [
        {
          "output_type": "stream",
          "name": "stdout",
          "text": [
            "['this', 'is', 'a', 'sample', 'sentence', 'and', 'this', 'sentence', 'has', 'some', 'sample', 'words', 'like', 'sentence', 'and', 'words']\n",
            "Counter({'sentence': 3, 'this': 2, 'sample': 2, 'and': 2, 'words': 2, 'is': 1, 'a': 1, 'has': 1, 'some': 1, 'like': 1})\n"
          ]
        }
      ]
    },
    {
      "cell_type": "code",
      "source": [
        "print(\"Most common words:\", word_count.most_common(3))\n"
      ],
      "metadata": {
        "colab": {
          "base_uri": "https://localhost:8080/"
        },
        "id": "VvhSH7NuqBTu",
        "outputId": "18d8d665-1bca-49d9-a80f-06e0f12e60e9"
      },
      "execution_count": null,
      "outputs": [
        {
          "output_type": "stream",
          "name": "stdout",
          "text": [
            "Most common words: [('sentence', 3), ('this', 2), ('sample', 2)]\n"
          ]
        }
      ]
    },
    {
      "cell_type": "code",
      "source": [
        "sorted_words = sorted(word_count.items(), key=lambda x: x[1], reverse=True)\n",
        "print(\"Sorted words by count:\", sorted_words)\n"
      ],
      "metadata": {
        "colab": {
          "base_uri": "https://localhost:8080/"
        },
        "id": "h4_NLgVzqDVI",
        "outputId": "c3bb7a9a-e6e8-46ba-e3ed-b54b7e69d7a4"
      },
      "execution_count": null,
      "outputs": [
        {
          "output_type": "stream",
          "name": "stdout",
          "text": [
            "Sorted words by count: [('sentence', 3), ('this', 2), ('sample', 2), ('and', 2), ('words', 2), ('is', 1), ('a', 1), ('has', 1), ('some', 1), ('like', 1)]\n"
          ]
        }
      ]
    },
    {
      "cell_type": "markdown",
      "source": [
        "**OrderedDict** is a dictionary subclass that remembers the order that items were added."
      ],
      "metadata": {
        "id": "77_6jJlhmXbO"
      }
    },
    {
      "cell_type": "code",
      "source": [
        "from collections import OrderedDict\n",
        "\n",
        "# Create an OrderedDict\n",
        "od = OrderedDict(a=1, b=2, c=3)\n",
        "print(od)  # Output: OrderedDict([('a', 1), ('b', 2), ('c', 3)])\n"
      ],
      "metadata": {
        "colab": {
          "base_uri": "https://localhost:8080/"
        },
        "id": "a0ABN41DmcbX",
        "outputId": "a0260f2b-2f04-4489-c8b1-13ffd1deb8a1"
      },
      "execution_count": null,
      "outputs": [
        {
          "output_type": "stream",
          "name": "stdout",
          "text": [
            "OrderedDict([('a', 1), ('b', 2), ('c', 3)])\n"
          ]
        }
      ]
    },
    {
      "cell_type": "code",
      "source": [
        "regular_dict = {}\n",
        "regular_dict['a'] = 1\n",
        "regular_dict['b'] = 2\n",
        "regular_dict['c'] = 3\n",
        "print(regular_dict)\n"
      ],
      "metadata": {
        "colab": {
          "base_uri": "https://localhost:8080/"
        },
        "id": "zqK-yNaEreuY",
        "outputId": "4577b5e9-be77-4533-a4c8-6cbafb8894a2"
      },
      "execution_count": null,
      "outputs": [
        {
          "output_type": "stream",
          "name": "stdout",
          "text": [
            "{'a': 1, 'b': 2, 'c': 3}\n"
          ]
        }
      ]
    },
    {
      "cell_type": "code",
      "source": [
        "ordered_dict = OrderedDict()\n",
        "ordered_dict['a'] = 1\n",
        "ordered_dict['b'] = 2\n",
        "ordered_dict['c'] = 3\n",
        "print(ordered_dict)  # Output: OrderedDict([('a', 1), ('b', 2), ('c', 3)])\n",
        "\n",
        "# Reordering\n",
        "ordered_dict.move_to_end('b', last=False)\n",
        "print(ordered_dict)  # Output: OrderedDict([('b', 2), ('a', 1), ('c', 3)])"
      ],
      "metadata": {
        "colab": {
          "base_uri": "https://localhost:8080/"
        },
        "id": "Y8C4Uzxzrd9M",
        "outputId": "3ae551ac-d138-4630-9bca-759ace8946a1"
      },
      "execution_count": null,
      "outputs": [
        {
          "output_type": "stream",
          "name": "stdout",
          "text": [
            "OrderedDict([('a', 1), ('b', 2), ('c', 3)])\n",
            "OrderedDict([('b', 2), ('a', 1), ('c', 3)])\n"
          ]
        }
      ]
    },
    {
      "cell_type": "markdown",
      "source": [
        "**defaultdict** is another dictionary subclass that will return a default value if a key doesn't exist.\n",
        "\n"
      ],
      "metadata": {
        "id": "eh1IQ_qEme0P"
      }
    },
    {
      "cell_type": "code",
      "source": [
        "from collections import defaultdict\n",
        "\n",
        "# Create a defaultdict\n",
        "dd = defaultdict(float)\n",
        "dd['a']=1.0\n",
        "dd['b'] =2.0\n",
        "\n",
        "print(dd['a'])\n",
        "# Access a missing key\n",
        "print(dd['missing_key'])  # Output: 0\n"
      ],
      "metadata": {
        "colab": {
          "base_uri": "https://localhost:8080/"
        },
        "id": "-EScAUgpmjIV",
        "outputId": "0be07754-ced1-4484-d9e4-515725ad7969"
      },
      "execution_count": null,
      "outputs": [
        {
          "output_type": "stream",
          "name": "stdout",
          "text": [
            "1.0\n",
            "0.0\n"
          ]
        }
      ]
    },
    {
      "cell_type": "markdown",
      "source": [
        "**map**\n",
        "\n",
        "A built-in function that applies a given function to all items of an iterator and returns an iterator that produces the results.\n",
        "\n",
        "The map function returns an iterator, which means you can only iterate through it once, and it doesn't support indexing or slicing like lists do. However, you can convert it to a list to see its elements."
      ],
      "metadata": {
        "id": "UEo2x4IutO9B"
      }
    },
    {
      "cell_type": "code",
      "source": [
        "words = [\"apple\", \"banana\", \"carrot\", \"avocado\", \"cucumber\", \"cheese\"]\n",
        "\n",
        "# Get the first letter of each word using map\n",
        "first_letters = map(lambda x: x[0], words)\n",
        "# print(list(first_letters))\n",
        "# Use Counter to count the occurrences of each first letter\n",
        "letter_count = Counter(list(first_letters))\n",
        "\n",
        "\n",
        "# Convert it to a dictionary\n",
        "letter_count_dict = dict(letter_count)\n",
        "\n",
        "print(letter_count_dict)"
      ],
      "metadata": {
        "colab": {
          "base_uri": "https://localhost:8080/"
        },
        "id": "GKDY5hgytOe0",
        "outputId": "71502ebd-67ba-48db-f9b0-7b9d1599b4c2"
      },
      "execution_count": null,
      "outputs": [
        {
          "output_type": "stream",
          "name": "stdout",
          "text": [
            "{'a': 2, 'b': 1, 'c': 3}\n"
          ]
        }
      ]
    },
    {
      "cell_type": "markdown",
      "source": [
        "**Numpy**"
      ],
      "metadata": {
        "id": "w_PHezT9nrNn"
      }
    },
    {
      "cell_type": "code",
      "source": [
        "import numpy as np"
      ],
      "metadata": {
        "id": "k_Ux3UMvntcF"
      },
      "execution_count": null,
      "outputs": []
    },
    {
      "cell_type": "markdown",
      "source": [
        "Creating arrays"
      ],
      "metadata": {
        "id": "FBAm9S3CnvmG"
      }
    },
    {
      "cell_type": "code",
      "source": [
        "import numpy as np\n",
        "arr1 = np.array([1, 2, 3])\n",
        "arr1"
      ],
      "metadata": {
        "colab": {
          "base_uri": "https://localhost:8080/"
        },
        "id": "9IZ9zkblnvPr",
        "outputId": "6c5a8770-7e41-4d7f-9e17-664651f2e5eb"
      },
      "execution_count": null,
      "outputs": [
        {
          "output_type": "execute_result",
          "data": {
            "text/plain": [
              "array([1, 2, 3])"
            ]
          },
          "metadata": {},
          "execution_count": 56
        }
      ]
    },
    {
      "cell_type": "code",
      "source": [
        "arr2 = np.zeros((2, 3))\n",
        "arr2"
      ],
      "metadata": {
        "colab": {
          "base_uri": "https://localhost:8080/"
        },
        "id": "cPo0OLCEo_Ih",
        "outputId": "b1f0c709-56b2-4f39-e3be-9730cf83d11a"
      },
      "execution_count": null,
      "outputs": [
        {
          "output_type": "execute_result",
          "data": {
            "text/plain": [
              "array([[0., 0., 0.],\n",
              "       [0., 0., 0.]])"
            ]
          },
          "metadata": {},
          "execution_count": 57
        }
      ]
    },
    {
      "cell_type": "code",
      "source": [
        "arr3 = np.ones((3, 2))\n",
        "arr3"
      ],
      "metadata": {
        "colab": {
          "base_uri": "https://localhost:8080/"
        },
        "id": "N1_kkxQepBiD",
        "outputId": "dcc7c5d6-3c0c-44dc-fd4e-4a5e17614377"
      },
      "execution_count": null,
      "outputs": [
        {
          "output_type": "execute_result",
          "data": {
            "text/plain": [
              "array([[1., 1.],\n",
              "       [1., 1.],\n",
              "       [1., 1.]])"
            ]
          },
          "metadata": {},
          "execution_count": 58
        }
      ]
    },
    {
      "cell_type": "code",
      "source": [
        "arr4 = np.empty((2, 2))\n",
        "arr4"
      ],
      "metadata": {
        "colab": {
          "base_uri": "https://localhost:8080/"
        },
        "id": "TVZ0b_gvpEOj",
        "outputId": "ff88f770-f643-492f-b1df-77f9ae9081ff"
      },
      "execution_count": null,
      "outputs": [
        {
          "output_type": "execute_result",
          "data": {
            "text/plain": [
              "array([[0.25, 0.5 ],\n",
              "       [0.75, 1.  ]])"
            ]
          },
          "metadata": {},
          "execution_count": 60
        }
      ]
    },
    {
      "cell_type": "code",
      "source": [
        "arr5 = np.arange(0, 10, 2)  # Start, stop, step\n",
        "arr5"
      ],
      "metadata": {
        "colab": {
          "base_uri": "https://localhost:8080/"
        },
        "id": "5_u5bRDPpHXo",
        "outputId": "7bac5f85-8525-4cdc-9cf6-f366e80eec3b"
      },
      "execution_count": null,
      "outputs": [
        {
          "output_type": "execute_result",
          "data": {
            "text/plain": [
              "array([0, 2, 4, 6, 8])"
            ]
          },
          "metadata": {},
          "execution_count": 61
        }
      ]
    },
    {
      "cell_type": "code",
      "source": [
        "arr8 = np.full((2, 2), 7)\n",
        "arr8"
      ],
      "metadata": {
        "colab": {
          "base_uri": "https://localhost:8080/"
        },
        "id": "zYz8k1jkpL8r",
        "outputId": "97e85746-58e5-4f29-aa95-ba4c3ab1259a"
      },
      "execution_count": null,
      "outputs": [
        {
          "output_type": "execute_result",
          "data": {
            "text/plain": [
              "array([[7, 7],\n",
              "       [7, 7]])"
            ]
          },
          "metadata": {},
          "execution_count": 62
        }
      ]
    },
    {
      "cell_type": "markdown",
      "source": [
        "Efficiency of NumPy"
      ],
      "metadata": {
        "id": "mHbpsj9PoApa"
      }
    },
    {
      "cell_type": "code",
      "source": [
        "import time\n",
        "\n",
        "# Create a large list and a NumPy array\n",
        "start_time = time.time()\n",
        "large_list = list(range(1, 1000000))\n",
        "end_time = time.time()\n",
        "list_time = end_time - start_time\n",
        "print(list_time)\n",
        "start_time = time.time()\n",
        "large_array = np.array(large_list)\n",
        "end_time = time.time()\n",
        "list_time = end_time - start_time\n",
        "print(list_time)\n",
        "# Measure time taken to sum elements in the list\n",
        "start_time = time.time()\n",
        "list_sum = sum([x * 2 for x in large_list])\n",
        "end_time = time.time()\n",
        "list_time = end_time - start_time\n",
        "print(f\"Time taken using Python lists: {list_time} seconds\")\n",
        "\n",
        "# Measure time taken to sum elements in the NumPy array\n",
        "start_time = time.time()\n",
        "array_sum = np.sum(large_array * 2)\n",
        "end_time = time.time()\n",
        "array_time = end_time - start_time\n",
        "print(f\"Time taken using NumPy arrays: {array_time} seconds\")\n",
        "\n",
        "# Calculate efficiency\n",
        "efficiency_ratio = list_time / array_time\n",
        "print(f\"NumPy is approximately {efficiency_ratio:.2f} times faster for this operation.\")\n"
      ],
      "metadata": {
        "colab": {
          "base_uri": "https://localhost:8080/"
        },
        "id": "55fIPvxmoALi",
        "outputId": "f9b0691e-8322-412d-d5e2-59aeed7151fb"
      },
      "execution_count": null,
      "outputs": [
        {
          "output_type": "stream",
          "name": "stdout",
          "text": [
            "0.02035379409790039\n",
            "0.056894779205322266\n",
            "Time taken using Python lists: 0.06738638877868652 seconds\n",
            "Time taken using NumPy arrays: 0.0018303394317626953 seconds\n",
            "NumPy is approximately 36.82 times faster for this operation.\n"
          ]
        }
      ]
    },
    {
      "cell_type": "markdown",
      "source": [
        "# **Review**"
      ],
      "metadata": {
        "id": "eDtDVVI9iJ7R"
      }
    },
    {
      "cell_type": "markdown",
      "source": [
        "```\n",
        "What does the 'w' mode in open() do?\n",
        "\n",
        "A) Read a file\n",
        "B) Write to a file\n",
        "C) Append to a file\n",
        "D) Read and Write to a file\n",
        "```\n",
        "\n"
      ],
      "metadata": {
        "id": "LALLT9OwiPmX"
      }
    },
    {
      "cell_type": "markdown",
      "source": [
        "\n",
        "\n",
        "```\n",
        "What happens to the existing content in a file when you open it in 'w' mode?\n",
        "\n",
        "A) Preserved\n",
        "B) Deleted\n",
        "C) Moved to another file\n",
        "D) None of the above\n",
        "```\n",
        "\n"
      ],
      "metadata": {
        "id": "PfesLshSijZQ"
      }
    },
    {
      "cell_type": "markdown",
      "source": [
        "\n",
        "\n",
        "```\n",
        "What does the with statement do in file handling?\n",
        "\n",
        "A) Creates a file\n",
        "B) Closes the file automatically\n",
        "C) Reads content from the file\n",
        "D) Deletes the file\n",
        "```\n",
        "\n"
      ],
      "metadata": {
        "id": "qGN64_5AivLn"
      }
    },
    {
      "cell_type": "markdown",
      "source": [
        "\n",
        "\n",
        "```\n",
        "The write() method can write only one line at a time. True /False\n",
        "```\n",
        "\n"
      ],
      "metadata": {
        "id": "N0wezs4bi5w-"
      }
    },
    {
      "cell_type": "markdown",
      "source": [
        "\n",
        "\n",
        "```\n",
        "What does the map function return?\n",
        " A) A list\n",
        " B) A tuple\n",
        " C) A dictionary\n",
        " D) A map object\n",
        "\n",
        "```\n",
        "\n"
      ],
      "metadata": {
        "id": "IBAfpbCuuxJ3"
      }
    },
    {
      "cell_type": "markdown",
      "source": [
        "\n",
        "\n",
        "```\n",
        "What is the default value for the defaultdict if not specified?\n",
        " 0\n",
        " None\n",
        " An empty list\n",
        " An empty dictionary\n",
        "\n",
        "```\n",
        "\n",
        "\n",
        "\n"
      ],
      "metadata": {
        "id": "Dw-pQpd0u8W-"
      }
    },
    {
      "cell_type": "markdown",
      "source": [
        "\n",
        "\n",
        "```\n",
        "What will happen if you try to add a mutable object like a list to a set?\n",
        " It will be added successfully\n",
        " An error will be thrown\n",
        " It will be converted to a tuple\n",
        " The set will become immutable\n",
        "```\n",
        "\n"
      ],
      "metadata": {
        "id": "-F7bjHaGv67v"
      }
    },
    {
      "cell_type": "code",
      "source": [
        "# Create a set\n",
        "my_set = {1, 2, 3}\n",
        "\n",
        "# Try to add a list to the set\n",
        "try:\n",
        "    my_set.add({'a':1})\n",
        "except TypeError as e:\n",
        "    print(f\"An error occurred: {e}\")\n",
        "print(my_set)\n"
      ],
      "metadata": {
        "id": "89OYknuFiL5h",
        "colab": {
          "base_uri": "https://localhost:8080/"
        },
        "outputId": "445c86c9-ee29-4516-aca3-2d4b1320723a"
      },
      "execution_count": null,
      "outputs": [
        {
          "output_type": "stream",
          "name": "stdout",
          "text": [
            "An error occurred: unhashable type: 'dict'\n",
            "{1, 2, 3}\n"
          ]
        }
      ]
    },
    {
      "cell_type": "code",
      "source": [
        "#What will be the output?\n",
        "array = np.random.rand(2, 2)\n",
        "array"
      ],
      "metadata": {
        "colab": {
          "base_uri": "https://localhost:8080/"
        },
        "id": "4mE9m3LYpTNZ",
        "outputId": "19746fce-28d9-4482-fa85-ab70bd42e0c1"
      },
      "execution_count": null,
      "outputs": [
        {
          "output_type": "execute_result",
          "data": {
            "text/plain": [
              "array([[0.66393228, 0.48295759],\n",
              "       [0.74804246, 0.65575501]])"
            ]
          },
          "metadata": {},
          "execution_count": 73
        }
      ]
    },
    {
      "cell_type": "code",
      "source": [
        "#What will be the output?\n",
        "array = np.eye(3)\n",
        "array"
      ],
      "metadata": {
        "colab": {
          "base_uri": "https://localhost:8080/"
        },
        "id": "Pf3Mimp3pacj",
        "outputId": "1216bc21-7a6a-4af0-d6fa-5472a27ace4b"
      },
      "execution_count": null,
      "outputs": [
        {
          "output_type": "execute_result",
          "data": {
            "text/plain": [
              "array([[1., 0., 0.],\n",
              "       [0., 1., 0.],\n",
              "       [0., 0., 1.]])"
            ]
          },
          "metadata": {},
          "execution_count": 74
        }
      ]
    },
    {
      "cell_type": "code",
      "source": [
        "# Try what kind of array (np.linspace(0, 1, 5)) creates"
      ],
      "metadata": {
        "id": "JjTUn65q7FTJ"
      },
      "execution_count": null,
      "outputs": []
    },
    {
      "cell_type": "code",
      "source": [
        "np.linspace(0, 1, 5)"
      ],
      "metadata": {
        "colab": {
          "base_uri": "https://localhost:8080/"
        },
        "id": "damORRVM6vzw",
        "outputId": "91d838db-5846-42b8-ff7b-6d135c1b304a"
      },
      "execution_count": null,
      "outputs": [
        {
          "output_type": "execute_result",
          "data": {
            "text/plain": [
              "array([0.  , 0.25, 0.5 , 0.75, 1.  ])"
            ]
          },
          "metadata": {},
          "execution_count": 75
        }
      ]
    },
    {
      "cell_type": "code",
      "source": [],
      "metadata": {
        "id": "c-oAbia96x7e"
      },
      "execution_count": null,
      "outputs": []
    }
  ]
}