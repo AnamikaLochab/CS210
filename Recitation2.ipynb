{
  "nbformat": 4,
  "nbformat_minor": 0,
  "metadata": {
    "colab": {
      "provenance": []
    },
    "kernelspec": {
      "name": "python3",
      "display_name": "Python 3"
    },
    "language_info": {
      "name": "python"
    }
  },
  "cells": [
    {
      "cell_type": "markdown",
      "source": [
        "CS 210 Recitation 2 Section 01/03 - Anamika\n",
        "\n",
        "\n",
        "\n",
        "\n"
      ],
      "metadata": {
        "id": "zZYJ4_Q6QHtk"
      }
    },
    {
      "cell_type": "markdown",
      "source": [
        "# While loop vs For loop"
      ],
      "metadata": {
        "id": "QWi34EUPiTDl"
      }
    },
    {
      "cell_type": "markdown",
      "source": [
        "\n",
        "**Unknown Number of Iterations:**\n",
        "\n",
        "When you don't know beforehand how many times you'll need to loop, a while loop is generally the better choice.\n",
        "For example, reading lines from a file until there are no more to read.\n"
      ],
      "metadata": {
        "id": "M9BfW7qJSGol"
      }
    },
    {
      "cell_type": "code",
      "execution_count": null,
      "metadata": {
        "id": "RSFzqzloSEh0",
        "colab": {
          "base_uri": "https://localhost:8080/"
        },
        "outputId": "7287e468-dbdb-4586-aaf5-958f91556008"
      },
      "outputs": [
        {
          "name": "stdout",
          "output_type": "stream",
          "text": [
            "Enter a number (or 0 to stop): 1\n",
            "You entered 1\n",
            "Enter a number (or 0 to stop): \n",
            "You entered \n",
            "Enter a number (or 0 to stop): e\n",
            "You entered e\n",
            "Enter a number (or 0 to stop): 0\n"
          ]
        }
      ],
      "source": [
        "user_input = input(\"Enter a number (or 0 to stop): \")\n",
        "while user_input != '0':\n",
        "    print(f\"You entered {user_input}\")\n",
        "    user_input = input(\"Enter a number (or 0 to stop): \")\n"
      ]
    },
    {
      "cell_type": "markdown",
      "source": [
        "2**Conditional Logic:**\n",
        "\n",
        "When your loop relies on a condition being met that is more complex than iterating through a range or collection, a while loop can be more readable and easier to understand.\n"
      ],
      "metadata": {
        "id": "FJSlWD5uSbhN"
      }
    },
    {
      "cell_type": "code",
      "source": [
        "password = ''\n",
        "while password != 'secret':\n",
        "    password = input(\"Enter the password: \")\n",
        "print(\"Correct password!\")\n"
      ],
      "metadata": {
        "id": "8yVit38aSWL1",
        "colab": {
          "base_uri": "https://localhost:8080/"
        },
        "outputId": "e8c9cb81-9e64-4bf4-caf1-b3a2e1e4e129"
      },
      "execution_count": null,
      "outputs": [
        {
          "output_type": "stream",
          "name": "stdout",
          "text": [
            "Enter the password: sdfghj\n",
            "Enter the password: dfghbnj\n",
            "Enter the password: ffgh\n",
            "Enter the password: secret\n",
            "Correct password!\n"
          ]
        }
      ]
    },
    {
      "cell_type": "markdown",
      "source": [
        "**External Factors:**\n",
        "\n",
        "If the continuation of your loop depends on external factors, such as user input, sensor readings, or other unpredictable events, while loops are generally more appropriate.\n"
      ],
      "metadata": {
        "id": "oLEvH12JSjUb"
      }
    },
    {
      "cell_type": "code",
      "source": [
        "# while sensor.is_active():\n",
        "#     data = sensor.read_data()\n",
        "#     process(data)"
      ],
      "metadata": {
        "id": "-pqNE5bgSeP_"
      },
      "execution_count": null,
      "outputs": []
    },
    {
      "cell_type": "markdown",
      "source": [
        "**Variable Step:**\n",
        "\n",
        "If you need to change the \"step\" dynamically while looping, while loops provide more flexibility.\n"
      ],
      "metadata": {
        "id": "bLOIiGuBSsnl"
      }
    },
    {
      "cell_type": "code",
      "source": [
        "import random\n",
        "count = 10\n",
        "while count > 0:\n",
        "    print(count)\n",
        "    step = random.randint(1, 3)  # random step\n",
        "    count -= step\n"
      ],
      "metadata": {
        "id": "UQas-DFdi0C3",
        "colab": {
          "base_uri": "https://localhost:8080/"
        },
        "outputId": "9c343b9a-d340-483d-fbef-4405eeebeb0c"
      },
      "execution_count": null,
      "outputs": [
        {
          "output_type": "stream",
          "name": "stdout",
          "text": [
            "10\n",
            "9\n",
            "8\n",
            "5\n",
            "2\n"
          ]
        }
      ]
    },
    {
      "cell_type": "markdown",
      "source": [
        "**Infinite Loop:**\n",
        "If you want something to run forever (until you manually stop it), use a while loop. For example, a simple game loop."
      ],
      "metadata": {
        "id": "A9iQ5Xfwi8w3"
      }
    },
    {
      "cell_type": "code",
      "source": [
        "while True:\n",
        "    # Do something\n",
        "    # use break to exit\n",
        "    break"
      ],
      "metadata": {
        "id": "x35Nh5JHi8Sy"
      },
      "execution_count": null,
      "outputs": []
    },
    {
      "cell_type": "markdown",
      "source": [
        "**break Statement**\n",
        "\n",
        "The break statement is used to exit the innermost loop in which it appears, immediately stopping the iteration."
      ],
      "metadata": {
        "id": "-LJ6DSvIjQ4N"
      }
    },
    {
      "cell_type": "code",
      "source": [
        "for i in range(5):\n",
        "    if i == 3:\n",
        "        break\n",
        "    print(i)\n"
      ],
      "metadata": {
        "id": "BsVCsC_MjQVx",
        "colab": {
          "base_uri": "https://localhost:8080/"
        },
        "outputId": "ada2a4e4-1d81-44e3-8747-faf6d49bce1c"
      },
      "execution_count": null,
      "outputs": [
        {
          "output_type": "stream",
          "name": "stdout",
          "text": [
            "0\n",
            "1\n",
            "2\n"
          ]
        }
      ]
    },
    {
      "cell_type": "markdown",
      "source": [
        "**continue Statement**\n",
        "\n",
        "The continue statement is used to skip the current iteration and move on to the next iteration of the loop."
      ],
      "metadata": {
        "id": "74ZgDMpy9M-c"
      }
    },
    {
      "cell_type": "code",
      "source": [
        "for i in range(5):\n",
        "    if i == 3:\n",
        "        continue\n",
        "    print(i)\n"
      ],
      "metadata": {
        "id": "TX_PmNcR9UZ_",
        "colab": {
          "base_uri": "https://localhost:8080/"
        },
        "outputId": "d01a1747-7132-4152-a0b4-59888e8ebf89"
      },
      "execution_count": null,
      "outputs": [
        {
          "output_type": "stream",
          "name": "stdout",
          "text": [
            "0\n",
            "1\n",
            "2\n",
            "4\n"
          ]
        }
      ]
    },
    {
      "cell_type": "markdown",
      "source": [
        "**pass Statement**\n",
        "\n",
        "The pass statement serves as a placeholder where syntax requires a statement, but you don't want any code to execute."
      ],
      "metadata": {
        "id": "vK_IlM9W9Uw7"
      }
    },
    {
      "cell_type": "code",
      "source": [
        "for i in range(5):\n",
        "    if i == 3:\n",
        "        pass\n",
        "    print(i)\n"
      ],
      "metadata": {
        "id": "Ot3xmC9A9fcH",
        "colab": {
          "base_uri": "https://localhost:8080/"
        },
        "outputId": "97632fae-7fb1-4e44-f44e-15223a59e9a9"
      },
      "execution_count": null,
      "outputs": [
        {
          "output_type": "stream",
          "name": "stdout",
          "text": [
            "0\n",
            "1\n",
            "2\n",
            "3\n",
            "4\n"
          ]
        }
      ]
    },
    {
      "cell_type": "markdown",
      "source": [
        "# Recursion"
      ],
      "metadata": {
        "id": "Qh0IoQaMjXiA"
      }
    },
    {
      "cell_type": "markdown",
      "source": [
        "The classic starting point for recursion is the factorial function, usually denoted by n!."
      ],
      "metadata": {
        "id": "RyX9_nnHjZmn"
      }
    },
    {
      "cell_type": "code",
      "source": [
        "def factorial(n):\n",
        "    if n == 0:\n",
        "        return 1\n",
        "    else:\n",
        "        return n * factorial(n-1)\n"
      ],
      "metadata": {
        "id": "2ExAdj0djXIC"
      },
      "execution_count": null,
      "outputs": []
    },
    {
      "cell_type": "markdown",
      "source": [
        "#List Comprehension"
      ],
      "metadata": {
        "id": "w8BO1jfqtyoM"
      }
    },
    {
      "cell_type": "code",
      "source": [
        "my_list = [i for i in range(1, 6)]\n",
        "my_list"
      ],
      "metadata": {
        "id": "bNR3LVest1yh",
        "colab": {
          "base_uri": "https://localhost:8080/"
        },
        "outputId": "7f8ffa88-7d7f-42c7-b68d-020c08feba83"
      },
      "execution_count": null,
      "outputs": [
        {
          "output_type": "execute_result",
          "data": {
            "text/plain": [
              "[1, 2, 3, 4, 5]"
            ]
          },
          "metadata": {},
          "execution_count": 8
        }
      ]
    },
    {
      "cell_type": "code",
      "source": [
        "even_numbers = [i for i in range(1, 11) if i % 2 == 0]\n",
        "even_numbers"
      ],
      "metadata": {
        "id": "sPcYbz6Bt5V_",
        "colab": {
          "base_uri": "https://localhost:8080/"
        },
        "outputId": "37b27bad-6f1a-4ca9-f852-36b04ec17cec"
      },
      "execution_count": null,
      "outputs": [
        {
          "output_type": "execute_result",
          "data": {
            "text/plain": [
              "[2, 4, 6, 8, 10]"
            ]
          },
          "metadata": {},
          "execution_count": 9
        }
      ]
    },
    {
      "cell_type": "code",
      "source": [
        "matrix = [[1,2,3],[2,3,4],[3,4,5]]\n",
        "print(\"Matrix : \",matrix)\n",
        "flat_matrix = [element for row in matrix for element in row]\n",
        "flat_matrix\n",
        "print(\"Flattened Matrix to list\",flat_matrix)"
      ],
      "metadata": {
        "id": "5jHT-mfft9QX",
        "colab": {
          "base_uri": "https://localhost:8080/"
        },
        "outputId": "c47a7742-78d2-445c-b0f2-f2440e8baadc"
      },
      "execution_count": null,
      "outputs": [
        {
          "output_type": "stream",
          "name": "stdout",
          "text": [
            "Matrix :  [[1, 2, 3], [2, 3, 4], [3, 4, 5]]\n",
            "Flattened Matrix to list [1, 2, 3, 2, 3, 4, 3, 4, 5]\n"
          ]
        }
      ]
    },
    {
      "cell_type": "markdown",
      "source": [
        "Write a list comprehension to produce the following lists:\n",
        "\n",
        "```\n",
        "[[1, 2, 3], [1, 2, 3], [1, 2, 3]]\n",
        "\n",
        "[[1, 2, 3], [4, 5, 6], [7, 8, 9]]\n",
        "\n",
        "[(1, 1), (2, 2), (3, 3)]\n",
        "\n",
        "[1, 2, 3, 1, 2, 3, 1, 2, 3]\n",
        "\n",
        "[1, 1, 1, 2, 2, 2, 3, 3, 3]\n",
        "\n",
        "```\n",
        "\n",
        "\n"
      ],
      "metadata": {
        "id": "_mOZJ27duxBr"
      }
    },
    {
      "cell_type": "code",
      "source": [
        "#To create [[1, 2, 3], [1, 2, 3], [1, 2, 3]]:\n",
        "\n",
        "my_list1_1 = [[1, 2, 3] for _ in range(3)]\n",
        "print(\"Way 1: \",my_list1_1)\n",
        "\n",
        "my_list1_2 = [[x for x in range(1, 4)] for _ in range(3)]\n",
        "print(\"Way 2: \",my_list1_2)\n"
      ],
      "metadata": {
        "id": "bY-7v7rHvDbT",
        "colab": {
          "base_uri": "https://localhost:8080/"
        },
        "outputId": "62d2395f-04ac-49dc-cd58-492c97ffc0e5"
      },
      "execution_count": null,
      "outputs": [
        {
          "output_type": "stream",
          "name": "stdout",
          "text": [
            "Way 1:  [[1, 2, 3], [1, 2, 3], [1, 2, 3]]\n",
            "Way 2:  [[1, 2, 3], [1, 2, 3], [1, 2, 3]]\n"
          ]
        }
      ]
    },
    {
      "cell_type": "code",
      "source": [
        "# To create [[1, 2, 3], [4, 5, 6], [7, 8, 9]]:\n",
        "my_list2 = [[i, i + 1, i + 2] for i in range(1, 8, 3)]\n",
        "print(my_list2)\n",
        "\n",
        "my_list2 = [[i, i + 1, i + 2] for i in range(1, 8, 3)]\n",
        "print(my_list2)"
      ],
      "metadata": {
        "id": "CiHnZCmtvlZf",
        "colab": {
          "base_uri": "https://localhost:8080/"
        },
        "outputId": "ceaa568e-3181-41a6-eb0b-66dda63f5b1f"
      },
      "execution_count": null,
      "outputs": [
        {
          "output_type": "stream",
          "name": "stdout",
          "text": [
            "[[1, 2, 3], [4, 5, 6], [7, 8, 9]]\n",
            "[[1, 2, 3], [4, 5, 6], [7, 8, 9]]\n"
          ]
        }
      ]
    },
    {
      "cell_type": "code",
      "source": [
        "# Calculate and use the square in one go\n",
        "squares = [(y:=x*x, y + 1) for x in range(1, 4)]\n",
        "print(squares)"
      ],
      "metadata": {
        "id": "vAKQl1vKwzJU",
        "colab": {
          "base_uri": "https://localhost:8080/"
        },
        "outputId": "08251560-26c3-481a-e099-ddd10bd69af5"
      },
      "execution_count": null,
      "outputs": [
        {
          "output_type": "stream",
          "name": "stdout",
          "text": [
            "[(1, 2), (4, 5), (9, 10)]\n"
          ]
        }
      ]
    },
    {
      "cell_type": "markdown",
      "source": [
        "#Sorting"
      ],
      "metadata": {
        "id": "SBGTNKwP-G-P"
      }
    },
    {
      "cell_type": "markdown",
      "source": [
        "**Built-in sorted() Function** :\n",
        "The sorted() function returns a new sorted list from the elements of any iterable.\n",
        "\n"
      ],
      "metadata": {
        "id": "dnYpROoU-OuF"
      }
    },
    {
      "cell_type": "code",
      "source": [
        "my_list = [3, 1, 4, 1, 5, 9, 2, 6, 5]\n",
        "sorted_list = sorted(my_list)\n",
        "print(sorted_list)\n"
      ],
      "metadata": {
        "id": "qKX9CQXJ-KdW",
        "colab": {
          "base_uri": "https://localhost:8080/"
        },
        "outputId": "fcad66ce-9cd3-4ae3-b625-9bf583fec414"
      },
      "execution_count": null,
      "outputs": [
        {
          "output_type": "stream",
          "name": "stdout",
          "text": [
            "[1, 1, 2, 3, 4, 5, 5, 6, 9]\n"
          ]
        }
      ]
    },
    {
      "cell_type": "markdown",
      "source": [
        "**List's sort() Method** :\n",
        "The sort() method sorts the elements of a list in-place.\n",
        "\n"
      ],
      "metadata": {
        "id": "rzENj_oI-aH1"
      }
    },
    {
      "cell_type": "code",
      "source": [
        "my_list.sort()\n",
        "print(my_list)\n"
      ],
      "metadata": {
        "id": "f--P-uyK-dmJ",
        "colab": {
          "base_uri": "https://localhost:8080/"
        },
        "outputId": "2d092960-b2fb-46a1-bb5f-beac81eefaf9"
      },
      "execution_count": null,
      "outputs": [
        {
          "output_type": "stream",
          "name": "stdout",
          "text": [
            "[1, 1, 2, 3, 4, 5, 5, 6, 9]\n"
          ]
        }
      ]
    },
    {
      "cell_type": "markdown",
      "source": [
        "**Custom Sorting with key**:\n",
        "Both sorted() and sort() accept a key function for custom sorting."
      ],
      "metadata": {
        "id": "YAFWk_Ks-iUr"
      }
    },
    {
      "cell_type": "code",
      "source": [
        "words = ['apple', 'banana', 'cherry','kiwi']\n",
        "sorted_words1 = sorted(words, key=len)\n",
        "print(sorted_words1)\n",
        "sorted_words2 = sorted(words)\n",
        "print(sorted_words2)"
      ],
      "metadata": {
        "id": "hsr9mUZ6-lgt",
        "colab": {
          "base_uri": "https://localhost:8080/"
        },
        "outputId": "13d53ab0-a546-4b1e-8683-47b6cfc81c0e"
      },
      "execution_count": null,
      "outputs": [
        {
          "output_type": "stream",
          "name": "stdout",
          "text": [
            "['kiwi', 'apple', 'banana', 'cherry']\n",
            "['apple', 'banana', 'cherry', 'kiwi']\n"
          ]
        }
      ]
    },
    {
      "cell_type": "markdown",
      "source": [
        "**Reverse Sorting**:\n",
        "Both sorted() and sort() accept a reverse=True argument to sort in descending order."
      ],
      "metadata": {
        "id": "UVoBfDMj-3Xo"
      }
    },
    {
      "cell_type": "code",
      "source": [
        "sorted_list_desc = sorted(my_list, reverse=True)\n",
        "print(sorted_list_desc)\n"
      ],
      "metadata": {
        "id": "f3vQhBPX-5W_",
        "colab": {
          "base_uri": "https://localhost:8080/"
        },
        "outputId": "da86da80-3c0a-4505-99ce-f595b9f184c9"
      },
      "execution_count": null,
      "outputs": [
        {
          "output_type": "stream",
          "name": "stdout",
          "text": [
            "[9, 6, 5, 5, 4, 3, 2, 1, 1]\n"
          ]
        }
      ]
    },
    {
      "cell_type": "markdown",
      "source": [
        "**Sorting Tuples and Objects**:\n",
        "Tuples can be sorted based on their first element, or using a custom key function. Similarly, objects can be sorted based on one of their attributes."
      ],
      "metadata": {
        "id": "4dpPnanj-7pI"
      }
    },
    {
      "cell_type": "code",
      "source": [
        "tuples = [(1, 'one'), (4, 'four'), (3, 'three')]\n",
        "sorted_tuples1 = sorted(tuples)\n",
        "print(sorted_tuples1)\n",
        "sorted_tuples2 = sorted(tuples, key=lambda x: x[1])\n",
        "print(sorted_tuples2)\n"
      ],
      "metadata": {
        "id": "KbUCs9SJ_Df0",
        "colab": {
          "base_uri": "https://localhost:8080/"
        },
        "outputId": "cfa69f4f-4716-4c97-9d4e-bde21f1fe830"
      },
      "execution_count": null,
      "outputs": [
        {
          "output_type": "stream",
          "name": "stdout",
          "text": [
            "[(1, 'one'), (3, 'three'), (4, 'four')]\n",
            "[(4, 'four'), (1, 'one'), (3, 'three')]\n"
          ]
        }
      ]
    },
    {
      "cell_type": "markdown",
      "source": [
        "#Standard Libraries\n"
      ],
      "metadata": {
        "id": "Vuu0eaq22oOL"
      }
    },
    {
      "cell_type": "markdown",
      "source": [
        "##Math"
      ],
      "metadata": {
        "id": "aEdr1vzV2rdX"
      }
    },
    {
      "cell_type": "code",
      "source": [
        "import math"
      ],
      "metadata": {
        "id": "9dVLjUVG2tUR"
      },
      "execution_count": null,
      "outputs": []
    },
    {
      "cell_type": "markdown",
      "source": [
        "Basic Constants\n",
        "\n",
        "Python's math library provides us with mathematical constants."
      ],
      "metadata": {
        "id": "LGcqho_n4Bi4"
      }
    },
    {
      "cell_type": "code",
      "source": [
        "# Pi (π): The mathematical constant π.\n",
        "print(f\"Pi : {math.pi}\")  # Output: 3.141592653589793\n",
        "\n",
        "# Euler's Number (e): The base of the natural logarithm.\n",
        "print(f\"Euler's Number : {math.e}\")  # Output: 2.718281828459045\n",
        "\n",
        "# Infinity\n",
        "print(f\"Positive Infinity : {math.inf}\")\n",
        "\n",
        "#NaN\n",
        "print(f\"Not a number : {math.nan}\")\n"
      ],
      "metadata": {
        "id": "q3onFFiU20A2",
        "colab": {
          "base_uri": "https://localhost:8080/"
        },
        "outputId": "3de13726-f1a5-49a2-ba68-20a0f4b65c1b"
      },
      "execution_count": null,
      "outputs": [
        {
          "output_type": "stream",
          "name": "stdout",
          "text": [
            "Pi : 3.141592653589793\n",
            "Euler's Number : 2.718281828459045\n",
            "Positive Infinity : inf\n",
            "Not a number : nan\n"
          ]
        }
      ]
    },
    {
      "cell_type": "markdown",
      "source": [
        "Basic Functions"
      ],
      "metadata": {
        "id": "BNHDdMhZ4GiO"
      }
    },
    {
      "cell_type": "code",
      "source": [
        "\n",
        "print(math.sqrt(25))  # Output: 5.0\n",
        "\n",
        "print(math.pow(2, 3))  # Output: 8.0\n",
        "\n",
        "print(math.fabs(-5))  # Output: 5.0\n",
        "\n",
        "print(math.factorial(5)) # Output: 120\n"
      ],
      "metadata": {
        "id": "MkgdhZL83_lO"
      },
      "execution_count": null,
      "outputs": []
    },
    {
      "cell_type": "markdown",
      "source": [
        "Trigonometry\n",
        "\n",
        "Sine, Cosine, Tangent\n"
      ],
      "metadata": {
        "id": "NOAJfWWP4j9R"
      }
    },
    {
      "cell_type": "code",
      "source": [
        "print(math.sin(math.pi/2))\n",
        "print(math.cos(0))\n",
        "print(math.tan(math.pi/4))"
      ],
      "metadata": {
        "id": "EydZbziw4oXN",
        "colab": {
          "base_uri": "https://localhost:8080/"
        },
        "outputId": "a7dadd2b-6759-4616-f3d3-b1bfaa703adf"
      },
      "execution_count": null,
      "outputs": [
        {
          "output_type": "stream",
          "name": "stdout",
          "text": [
            "1.0\n",
            "1.0\n",
            "0.9999999999999999\n"
          ]
        }
      ]
    },
    {
      "cell_type": "markdown",
      "source": [
        "Logarithms :\n",
        "Natural Logarithm (ln), Base 10 Logarithm (log10), and Logarithm with Custom Base"
      ],
      "metadata": {
        "id": "3Kg2l4hM5U1n"
      }
    },
    {
      "cell_type": "code",
      "source": [
        "print(math.log(math.e))     # Output: 1.0\n",
        "print(math.log10(100))      # Output: 2.0\n",
        "print(math.log(16, 2))      # Output: 4.0\n"
      ],
      "metadata": {
        "id": "Se3CBFqp5Ylh",
        "colab": {
          "base_uri": "https://localhost:8080/"
        },
        "outputId": "f4845823-8ad2-40e6-b613-5165ba5f5e08"
      },
      "execution_count": null,
      "outputs": [
        {
          "output_type": "stream",
          "name": "stdout",
          "text": [
            "1.0\n",
            "2.0\n",
            "4.0\n"
          ]
        }
      ]
    },
    {
      "cell_type": "markdown",
      "source": [
        "Rounding Numbers:\n",
        "Round Up and Round Down"
      ],
      "metadata": {
        "id": "iUfrNsSl5cDl"
      }
    },
    {
      "cell_type": "code",
      "source": [
        "print(math.ceil(4.2))  # Output: 5\n",
        "print(math.floor(4.8)) # Output: 4\n"
      ],
      "metadata": {
        "id": "PbsAAKAq5fvK",
        "colab": {
          "base_uri": "https://localhost:8080/"
        },
        "outputId": "dbea4b8b-3dde-478c-d47e-741d31034534"
      },
      "execution_count": null,
      "outputs": [
        {
          "output_type": "stream",
          "name": "stdout",
          "text": [
            "5\n",
            "4\n"
          ]
        }
      ]
    },
    {
      "cell_type": "code",
      "source": [
        "math.isclose(1,0.9999999999)"
      ],
      "metadata": {
        "id": "hWW30VAO59EU",
        "colab": {
          "base_uri": "https://localhost:8080/"
        },
        "outputId": "ea636564-7d39-4937-a0f7-52ee79bf1fa1"
      },
      "execution_count": null,
      "outputs": [
        {
          "output_type": "execute_result",
          "data": {
            "text/plain": [
              "True"
            ]
          },
          "metadata": {},
          "execution_count": 24
        }
      ]
    },
    {
      "cell_type": "code",
      "source": [
        "math.isclose(1,1.1,rel_tol=0.05)"
      ],
      "metadata": {
        "id": "SOqBUdZ26C63",
        "colab": {
          "base_uri": "https://localhost:8080/"
        },
        "outputId": "6fb193c5-f7dd-4880-f5b8-8a8c4a803d64"
      },
      "execution_count": null,
      "outputs": [
        {
          "output_type": "execute_result",
          "data": {
            "text/plain": [
              "False"
            ]
          },
          "metadata": {},
          "execution_count": 23
        }
      ]
    },
    {
      "cell_type": "markdown",
      "source": [
        "# Random"
      ],
      "metadata": {
        "id": "_vUyYnFf6xhv"
      }
    },
    {
      "cell_type": "code",
      "source": [
        "import random"
      ],
      "metadata": {
        "id": "MpuWAqCw7Gtc"
      },
      "execution_count": null,
      "outputs": []
    },
    {
      "cell_type": "markdown",
      "source": [
        "Generating Random Numbers"
      ],
      "metadata": {
        "id": "mmAxbjw-659b"
      }
    },
    {
      "cell_type": "code",
      "source": [
        "# Random Float Between 0 and 1\n",
        "print(random.random())  # Output: Random float x, 0.0 <= x < 1.0\n",
        "\n",
        "# Random Float Between a Range\n",
        "print(random.uniform(1, 5))  # Output: Random float x, 1.0 <= x < 5.0\n",
        "\n",
        "# Random Integer Between a Range\n",
        "print(random.randint(1, 10))  # Output: Random integer between 1 and 10 (inclusive)"
      ],
      "metadata": {
        "id": "x3vL2Ts-60G8",
        "colab": {
          "base_uri": "https://localhost:8080/"
        },
        "outputId": "37cf16a0-63e2-4e6d-e678-2c691c6698b3"
      },
      "execution_count": null,
      "outputs": [
        {
          "output_type": "stream",
          "name": "stdout",
          "text": [
            "0.39596533307285786\n",
            "3.481900839761375\n",
            "6\n"
          ]
        }
      ]
    },
    {
      "cell_type": "markdown",
      "source": [
        "Random Choices and Sampling\n"
      ],
      "metadata": {
        "id": "6ss5ql_L7TVU"
      }
    },
    {
      "cell_type": "code",
      "source": [
        "# Choosing a Random Element from a List\n",
        "my_list = [1, 2, 3, 4, 5]\n",
        "print(random.choice(my_list))  # Output: A random element from my_list\n",
        "\n",
        "\n",
        "# Choosing Multiple Random Elements (Sampling)\n",
        "print(random.sample(my_list, 3))  # Output: Three unique random elements from my_list\n",
        "\n",
        "\n",
        "# Shuffling a List\n",
        "random.shuffle(my_list)\n",
        "print(my_list)  # Output:"
      ],
      "metadata": {
        "id": "nU6RILhG7T7Q",
        "colab": {
          "base_uri": "https://localhost:8080/"
        },
        "outputId": "46f826a9-359e-47e4-9a3d-4ae55676735a"
      },
      "execution_count": null,
      "outputs": [
        {
          "output_type": "stream",
          "name": "stdout",
          "text": [
            "1\n",
            "[4, 2, 5]\n",
            "[2, 5, 1, 4, 3]\n"
          ]
        }
      ]
    },
    {
      "cell_type": "markdown",
      "source": [
        "Randomizing with a Seed\n",
        "\n",
        "The seed() function allows you to generate a predictable sequence of random numbers."
      ],
      "metadata": {
        "id": "QKo_k3eK7fyH"
      }
    },
    {
      "cell_type": "code",
      "source": [
        "random.seed(123)\n",
        "print(random.random())  # Output will always be the same with seed 1"
      ],
      "metadata": {
        "id": "u3khiZv_7qBE",
        "colab": {
          "base_uri": "https://localhost:8080/"
        },
        "outputId": "e5787a81-f4e5-4a54-bb03-f99f2c5bff7d"
      },
      "execution_count": null,
      "outputs": [
        {
          "output_type": "stream",
          "name": "stdout",
          "text": [
            "0.052363598850944326\n"
          ]
        }
      ]
    },
    {
      "cell_type": "code",
      "source": [
        "import string\n",
        "\n",
        "random_string = ''.join(random.choices(string.ascii_letters + string.digits, k=8))\n",
        "print(random_string)  # Output: Random string of 8 characters\n"
      ],
      "metadata": {
        "id": "3MAtvFUv72En",
        "colab": {
          "base_uri": "https://localhost:8080/"
        },
        "outputId": "d1cdc179-bf9e-4f86-96a9-953c04faf0d4"
      },
      "execution_count": null,
      "outputs": [
        {
          "output_type": "stream",
          "name": "stdout",
          "text": [
            "juupaBfL\n"
          ]
        }
      ]
    },
    {
      "cell_type": "markdown",
      "source": [
        "#Matplotlib"
      ],
      "metadata": {
        "id": "A004ZcMj8PLi"
      }
    },
    {
      "cell_type": "code",
      "source": [
        "import matplotlib.pyplot as plt"
      ],
      "metadata": {
        "id": "K3UGj5Tg8UFn"
      },
      "execution_count": null,
      "outputs": []
    },
    {
      "cell_type": "markdown",
      "source": [
        "Line graph"
      ],
      "metadata": {
        "id": "6Sh3WWi68RNr"
      }
    },
    {
      "cell_type": "code",
      "source": [
        "# Data\n",
        "x = [0, 1, 2, 3, 4]\n",
        "y = [0, 1, 4, 9, 16]\n",
        "\n",
        "# Create the plot\n",
        "plt.plot(x, y)\n",
        "\n",
        "# Show the plot\n",
        "plt.show()\n"
      ],
      "metadata": {
        "id": "kzy67GuV8Wru",
        "colab": {
          "base_uri": "https://localhost:8080/",
          "height": 430
        },
        "outputId": "89460100-4425-4e47-9df0-2a5ead5fb778"
      },
      "execution_count": null,
      "outputs": [
        {
          "output_type": "display_data",
          "data": {
            "text/plain": [
              "<Figure size 640x480 with 1 Axes>"
            ],
            "image/png": "[encoded data removed]"
          },
          "metadata": {}
        }
      ]
    },
    {
      "cell_type": "code",
      "source": [
        "plt.plot(x, y)\n",
        "plt.title('Line Graph Example')\n",
        "plt.xlabel('X-axis')\n",
        "plt.ylabel('Y-axis')\n",
        "plt.show()\n"
      ],
      "metadata": {
        "id": "FR6VXxXY8lJ5",
        "colab": {
          "base_uri": "https://localhost:8080/",
          "height": 472
        },
        "outputId": "b6fa12bf-e6bc-45f0-b7c1-d5b35d30d7d4"
      },
      "execution_count": null,
      "outputs": [
        {
          "output_type": "display_data",
          "data": {
            "text/plain": [
              "<Figure size 640x480 with 1 Axes>"
            ],
            "image/png": "[encoded data removed]"
          },
          "metadata": {}
        }
      ]
    },
    {
      "cell_type": "markdown",
      "source": [
        "**enumerate**\n",
        "\n",
        "The enumerate function is a built-in Python function that's extremely useful when you're iterating over a list (or any other iterable) and you need to keep track of the index of the current item."
      ],
      "metadata": {
        "id": "XhtTbJU0FVmj"
      }
    },
    {
      "cell_type": "code",
      "source": [
        "for fruit in ['apple', 'banana', 'cherry']:\n",
        "    print(fruit)\n",
        "print(\"\\n\")\n",
        "for index, fruit in enumerate(['apple', 'banana', 'cherry']):\n",
        "    print(f\"Position {index} holds the value {fruit}\")\n"
      ],
      "metadata": {
        "id": "AoY-bt0YFdEM",
        "colab": {
          "base_uri": "https://localhost:8080/"
        },
        "outputId": "452b8d70-5653-43b7-9379-221ec38589f6"
      },
      "execution_count": null,
      "outputs": [
        {
          "output_type": "stream",
          "name": "stdout",
          "text": [
            "apple\n",
            "banana\n",
            "cherry\n",
            "\n",
            "\n",
            "Position 0 holds the value apple\n",
            "Position 1 holds the value banana\n",
            "Position 2 holds the value cherry\n"
          ]
        }
      ]
    },
    {
      "cell_type": "markdown",
      "source": [
        "# Review"
      ],
      "metadata": {
        "id": "Y69OzXtpFwnx"
      }
    },
    {
      "cell_type": "markdown",
      "source": [
        "You have been given a list of Person objects, and your task is to sort the list based on the age attribute of each object.\n",
        "\n",
        "Class Definition:\n",
        "The Person class has already been defined for you:"
      ],
      "metadata": {
        "id": "kqqANQxN8d9M"
      }
    },
    {
      "cell_type": "code",
      "source": [
        "class Person:\n",
        "    def __init__(self, name, age):\n",
        "        self.name = name\n",
        "        self.age = age\n",
        "\n",
        "    def __repr__(self):\n",
        "        return f\"{self.name}, {self.age}\"\n"
      ],
      "metadata": {
        "id": "p7ziuPlr_oXt"
      },
      "execution_count": null,
      "outputs": []
    },
    {
      "cell_type": "markdown",
      "source": [
        "List of Person Objects,\n",
        "Here is your list of Person objects:"
      ],
      "metadata": {
        "id": "cgyQG9VE_tH_"
      }
    },
    {
      "cell_type": "code",
      "source": [
        "people = [\n",
        "    Person('Alice', 35),\n",
        "    Person('Bob', 25),\n",
        "    Person('Eve', 40),\n",
        "    Person('Charlie', 30)\n",
        "]\n"
      ],
      "metadata": {
        "id": "f-jYGEFn_qsH"
      },
      "execution_count": null,
      "outputs": []
    },
    {
      "cell_type": "markdown",
      "source": [
        "**Task:**\n",
        "Sort the list people by their age in ascending order and print the sorted list."
      ],
      "metadata": {
        "id": "eZUmq4KR_zcV"
      }
    },
    {
      "cell_type": "code",
      "source": [
        "for person in people:\n",
        "  print(person.age)"
      ],
      "metadata": {
        "id": "dvwes-3ZLYOw",
        "colab": {
          "base_uri": "https://localhost:8080/"
        },
        "outputId": "6102bc20-e14c-4d23-b3ca-8f8c6e0ee31c"
      },
      "execution_count": null,
      "outputs": [
        {
          "output_type": "stream",
          "name": "stdout",
          "text": [
            "35\n",
            "25\n",
            "40\n",
            "30\n"
          ]
        }
      ]
    },
    {
      "cell_type": "code",
      "source": [
        "sorted_people = sorted(people, key=lambda person: person.age)\n",
        "print(sorted_people)\n"
      ],
      "metadata": {
        "id": "OGJPMG3n_3ZS",
        "colab": {
          "base_uri": "https://localhost:8080/"
        },
        "outputId": "b11d1376-2941-41c2-c374-af9078860785"
      },
      "execution_count": null,
      "outputs": [
        {
          "output_type": "stream",
          "name": "stdout",
          "text": [
            "[Bob, 25, Charlie, 30, Alice, 35, Eve, 40]\n"
          ]
        }
      ]
    },
    {
      "cell_type": "code",
      "source": [
        "# What will the following code output?\n",
        "x = [1, 2, 3]\n",
        "y = x\n",
        "y.append([4,5,6])\n",
        "print(x)\n",
        "\n",
        "# A) [1, 2, 3]\n",
        "# B) [1, 2, 3, 4, 5, 6]\n",
        "# C) [4, 5, 6, 1, 2, 3]\n",
        "# D) [1, 2, 3, [4, 5, 6]]\n"
      ],
      "metadata": {
        "id": "uwWgXXLqXPCA",
        "colab": {
          "base_uri": "https://localhost:8080/"
        },
        "outputId": "bda1a0f9-0b13-4b4a-8abe-5d1d6095111e"
      },
      "execution_count": null,
      "outputs": [
        {
          "output_type": "stream",
          "name": "stdout",
          "text": [
            "[1, 2, 3, 4, 5, 6]\n"
          ]
        }
      ]
    },
    {
      "cell_type": "code",
      "source": [
        "# How do you generate a random number between 1 and 100 in Python?\n",
        "# A) random.rand(1, 100)\n",
        "# B) random.randint(1, 100)\n",
        "# C) random.range(1, 100)\n",
        "# D) random.random(1, 100)\n",
        "\n",
        "# print(random.rand(1, 100))\n",
        "# print(random.randint(1, 100))\n",
        "# print(random.range(1, 100))\n",
        "# print(random.random())"
      ],
      "metadata": {
        "id": "ZbN-7QbYCzpi",
        "colab": {
          "base_uri": "https://localhost:8080/"
        },
        "outputId": "b9160ff2-ffc1-4373-c683-a7c0e3414b57"
      },
      "execution_count": null,
      "outputs": [
        {
          "output_type": "stream",
          "name": "stdout",
          "text": [
            "41\n"
          ]
        }
      ]
    },
    {
      "cell_type": "code",
      "source": [
        "#  What is the correct way to sort a list of integers in descending order?\n",
        "# sorted(my_list, reverse=True)\n",
        "# my_list.sort(descending=True)\n",
        "# my_list.reverse_sort()\n",
        "# sort(my_list, reverse=True)"
      ],
      "metadata": {
        "id": "dMDpw6ivDR_V"
      },
      "execution_count": null,
      "outputs": []
    },
    {
      "cell_type": "code",
      "source": [
        "# What is the output of the following code?\n",
        "print(\"spam\" * 3)\n",
        "# A) spamspamspam\n",
        "# B) spam3\n",
        "# C) spam spam spam\n",
        "# D) 333"
      ],
      "metadata": {
        "id": "N0GNFJEEDbmG",
        "colab": {
          "base_uri": "https://localhost:8080/"
        },
        "outputId": "166c5ee1-402a-4326-e88c-10d9ca7f2cff"
      },
      "execution_count": null,
      "outputs": [
        {
          "output_type": "stream",
          "name": "stdout",
          "text": [
            "spamspamspam\n"
          ]
        }
      ]
    },
    {
      "cell_type": "code",
      "source": [
        "# How do you make a variable global inside a function?\n",
        "# A) globe variable_name\n",
        "# B) global variable_name\n",
        "# C) var global = variable_name\n",
        "# D) Publish it on social media\n"
      ],
      "metadata": {
        "id": "UBh44HbeD797"
      },
      "execution_count": null,
      "outputs": []
    },
    {
      "cell_type": "code",
      "source": [
        "# Which list comprehension will generate [1, 4, 9, 16, 25]?\n",
        "# [x * x for x in range(1, 6)]\n",
        "# [x * x for x in range(5)]\n",
        "# [x * 2 for x in range(1, 6)]\n",
        "# [x ** 0.5 for x in range(1, 6)]\n"
      ],
      "metadata": {
        "id": "AqjjhynREcte",
        "colab": {
          "base_uri": "https://localhost:8080/"
        },
        "outputId": "b9060b0e-755c-4b96-b980-d5b8c57da179"
      },
      "execution_count": null,
      "outputs": [
        {
          "output_type": "execute_result",
          "data": {
            "text/plain": [
              "[2, 4, 6, 8, 10]"
            ]
          },
          "metadata": {},
          "execution_count": 65
        }
      ]
    },
    {
      "cell_type": "code",
      "source": [
        "# How do you create an empty set in Python?\n",
        "# A) {}\n",
        "# B) set{}\n",
        "# C) set()\n",
        "# D) []\n"
      ],
      "metadata": {
        "id": "H5X7S4qrEpcI"
      },
      "execution_count": null,
      "outputs": []
    },
    {
      "cell_type": "markdown",
      "source": [
        "**Question in PPT**"
      ],
      "metadata": {
        "id": "DpYQgjwIPbT0"
      }
    },
    {
      "cell_type": "code",
      "source": [
        "# Initialize the frog's journey attributes\n",
        "frog_journey = {\n",
        "    'current_position': 0,\n",
        "    'leaps': [],\n",
        "    'number_of_leaps':0,\n",
        "    'pond_length': 30\n",
        "}\n",
        "\n",
        "# The frog makes its first leap\n",
        "first_leap = 5\n",
        "frog_journey['current_position'] += first_leap\n",
        "frog_journey['leaps'].append(first_leap)\n",
        "frog_journey['number_of_leaps'] +=1\n",
        "\n",
        "print(f\"The frog has made a leap of {first_leap} feet. Current position: {frog_journey['current_position']} feet.\")\n"
      ],
      "metadata": {
        "colab": {
          "base_uri": "https://localhost:8080/"
        },
        "id": "WIesTS2PPaxm",
        "outputId": "80bc809a-13f0-4006-d940-78aa6fc1792d"
      },
      "execution_count": null,
      "outputs": [
        {
          "output_type": "stream",
          "name": "stdout",
          "text": [
            "The frog has made a leap of 5 feet. Current position: 5 feet.\n"
          ]
        }
      ]
    },
    {
      "cell_type": "code",
      "source": [
        "\n",
        "# Loop until the frog crosses the pond\n",
        "while frog_journey['current_position'] < frog_journey['pond_length']:\n",
        "    # Each leap is of variable length, let's randomize it between 1 to 5 feet\n",
        "    leap = random.randint(1, 5)\n",
        "\n",
        "    # Update the frog's position and record the leap\n",
        "    frog_journey['current_position'] += leap\n",
        "    frog_journey['leaps'].append(leap)\n",
        "    frog_journey['number_of_leaps'] +=1\n",
        "\n",
        "    print(f\"The frog has made a leap of {leap} feet. Current position: {frog_journey['current_position']} feet.\")\n",
        "\n",
        "    # Check if the frog has crossed the pond\n",
        "    if frog_journey['current_position'] >= frog_journey['pond_length']:\n",
        "        print(\"The frog has successfully crossed the pond!\")\n",
        "        break  # Exit the loop\n",
        "\n",
        "\n",
        "print(f\"Journey details: {frog_journey}\")\n"
      ],
      "metadata": {
        "colab": {
          "base_uri": "https://localhost:8080/"
        },
        "id": "K9wk2vn7NCcc",
        "outputId": "34d2ea0f-6e27-4fa5-eb8e-4c49663d9e7f"
      },
      "execution_count": null,
      "outputs": [
        {
          "output_type": "stream",
          "name": "stdout",
          "text": [
            "The frog has made a leap of 4 feet. Current position: 9 feet.\n",
            "The frog has made a leap of 1 feet. Current position: 10 feet.\n",
            "The frog has made a leap of 1 feet. Current position: 11 feet.\n",
            "The frog has made a leap of 1 feet. Current position: 12 feet.\n",
            "The frog has made a leap of 2 feet. Current position: 14 feet.\n",
            "The frog has made a leap of 2 feet. Current position: 16 feet.\n",
            "The frog has made a leap of 1 feet. Current position: 17 feet.\n",
            "The frog has made a leap of 3 feet. Current position: 20 feet.\n",
            "The frog has made a leap of 4 feet. Current position: 24 feet.\n",
            "The frog has made a leap of 5 feet. Current position: 29 feet.\n",
            "The frog has made a leap of 4 feet. Current position: 33 feet.\n",
            "The frog has successfully crossed the pond!\n",
            "Journey details: {'current_position': 33, 'leaps': [5, 4, 1, 1, 1, 2, 2, 1, 3, 4, 5, 4], 'number_of_leaps': 12, 'pond_length': 30}\n"
          ]
        }
      ]
    },
    {
      "cell_type": "code",
      "source": [
        "frog_journey"
      ],
      "metadata": {
        "colab": {
          "base_uri": "https://localhost:8080/"
        },
        "id": "7wboFdxcOJze",
        "outputId": "384ff5d1-b675-4aba-ff5c-8235d443576c"
      },
      "execution_count": null,
      "outputs": [
        {
          "output_type": "execute_result",
          "data": {
            "text/plain": [
              "{'current_position': 33,\n",
              " 'leaps': [5, 4, 1, 1, 1, 2, 2, 1, 3, 4, 5, 4],\n",
              " 'number_of_leaps': 12,\n",
              " 'pond_length': 30}"
            ]
          },
          "metadata": {},
          "execution_count": 68
        }
      ]
    },
    {
      "cell_type": "code",
      "source": [],
      "metadata": {
        "id": "7yEuz2dMOPNO"
      },
      "execution_count": null,
      "outputs": []
    }
  ]
}