{
  "nbformat": 4,
  "nbformat_minor": 0,
  "metadata": {
    "colab": {
      "provenance": []
    },
    "kernelspec": {
      "name": "python3",
      "display_name": "Python 3"
    },
    "language_info": {
      "name": "python"
    }
  },
  "cells": [
    {
      "cell_type": "markdown",
      "source": [
        "## **Data Types**\n",
        "\n",
        "Built-in data types in Python include:\n",
        "1. Numeric types - int, float, complex\n",
        "1. Sequence types - list, tuple, range\n",
        "1. Set types - set, frozenset\n",
        "1. Mapping type - dict\n",
        "1. Text sequence type - str\n",
        "\n",
        ".... and more\n",
        "\n"
      ],
      "metadata": {
        "id": "gwvio62RSU3U"
      }
    },
    {
      "cell_type": "markdown",
      "source": [
        "**Integer (int)**: Whole numbers without a decimal point. They are useful for counting items, indexing, and other tasks that don't require fractional values.\n",
        "( *not used while training models since weights and biases have to be precise and not approximations*)\n",
        "\n",
        "**Floating-Point (float)**: Numbers with a decimal point. Useful for measurements, calculations that require fractions, and so on.\n",
        "\n",
        "**String (str)**: Text or a sequence of characters. Useful for storing and manipulating text data like names, titles, etc.\n",
        "\n",
        "**Boolean (bool)**: Represents True or False values. Useful for conditional statements and logic."
      ],
      "metadata": {
        "id": "6OsYakhOTxxO"
      }
    },
    {
      "cell_type": "code",
      "source": [
        "my_integer = 10\n",
        "my_integer = 100 - 10\n",
        "my_float = 20.5\n",
        "my_string = \"Hello, Python!\"\n",
        "my_boolean = True\n",
        "\n",
        "print(\"The data type of my_integer is:\", type(my_integer))\n",
        "print(\"The data type of my_float is:\", type(my_float))\n",
        "print(\"The data type of my_string is:\", type(my_string))\n",
        "print(\"The data type of my_boolean is:\", type(my_boolean))"
      ],
      "metadata": {
        "colab": {
          "base_uri": "https://localhost:8080/"
        },
        "id": "cSGaUSA4Qy83",
        "outputId": "1abbab83-f3f3-43eb-f5d5-7dbcafed88b5"
      },
      "execution_count": 1,
      "outputs": [
        {
          "output_type": "stream",
          "name": "stdout",
          "text": [
            "The data type of my_integer is: <class 'int'>\n",
            "The data type of my_float is: <class 'float'>\n",
            "The data type of my_string is: <class 'str'>\n",
            "The data type of my_boolean is: <class 'bool'>\n"
          ]
        }
      ]
    },
    {
      "cell_type": "markdown",
      "source": [
        "**Type Casting :** converting one data type to another is known as \"type casting\""
      ],
      "metadata": {
        "id": "KWY3CM88Uk_k"
      }
    },
    {
      "cell_type": "code",
      "source": [
        "# Integer to Float\n",
        "my_int = 10\n",
        "my_float = float(my_int)\n",
        "print(my_float)  # Output will be 10.0\n",
        "\n",
        "# Float to Integer\n",
        "my_float = 10.5\n",
        "my_int = int(my_float)\n",
        "print(my_int)  # Output will be 10, note that it truncates the decimal part\n"
      ],
      "metadata": {
        "colab": {
          "base_uri": "https://localhost:8080/"
        },
        "id": "u2WOp5dJUK10",
        "outputId": "4a980c1d-ee05-4e24-eb52-15fb1ce3608b"
      },
      "execution_count": 2,
      "outputs": [
        {
          "output_type": "stream",
          "name": "stdout",
          "text": [
            "10.0\n",
            "10\n"
          ]
        }
      ]
    },
    {
      "cell_type": "code",
      "source": [
        "#If a string represents a number, you can convert it to an integer using int() or to a float using float()\n",
        "\n",
        "# String to Integer\n",
        "str_num = \"10\"\n",
        "int_num = int(str_num)\n",
        "print(int_num)  # Output will be 10\n",
        "\n",
        "# Float to String\n",
        "my_float = 10.5\n",
        "str_num = str(my_float)\n",
        "print(str_num)  # Output will be \"10.5\"\n"
      ],
      "metadata": {
        "id": "2GQHno1VUzX8",
        "colab": {
          "base_uri": "https://localhost:8080/"
        },
        "outputId": "bf550d31-b0b2-4093-be63-cdf61996370a"
      },
      "execution_count": 3,
      "outputs": [
        {
          "output_type": "stream",
          "name": "stdout",
          "text": [
            "10\n",
            "10.5\n"
          ]
        }
      ]
    },
    {
      "cell_type": "markdown",
      "source": [
        "## **Arithmetic Operators for Numbers**\n",
        "For numerical values (int and float), the +, -, *, /, and % operators perform as you'd expect, carrying out addition, subtraction, multiplication, division, and modulus (remainder) respectively."
      ],
      "metadata": {
        "id": "EcIWhsPgXA4M"
      }
    },
    {
      "cell_type": "markdown",
      "source": [
        "Any artihmetic operation between int and float will result into ?"
      ],
      "metadata": {
        "id": "DPdegatmWN1b"
      }
    },
    {
      "cell_type": "code",
      "source": [
        "result = my_int + my_float\n",
        "print(result)"
      ],
      "metadata": {
        "id": "DHPJX_4AWNgf",
        "colab": {
          "base_uri": "https://localhost:8080/"
        },
        "outputId": "dca551d5-58b2-4e9b-8dc9-05e4f967b9a2"
      },
      "execution_count": 4,
      "outputs": [
        {
          "output_type": "stream",
          "name": "stdout",
          "text": [
            "20.5\n"
          ]
        }
      ]
    },
    {
      "cell_type": "code",
      "source": [
        "result = 10//3\n",
        "print(result)"
      ],
      "metadata": {
        "id": "bER1SGwOXM-G",
        "colab": {
          "base_uri": "https://localhost:8080/"
        },
        "outputId": "1133bcaf-1122-4775-d12f-06041749cc15"
      },
      "execution_count": 5,
      "outputs": [
        {
          "output_type": "stream",
          "name": "stdout",
          "text": [
            "3\n"
          ]
        }
      ]
    },
    {
      "cell_type": "markdown",
      "source": [
        "**Special Use of + for String Concatenation** : The + operator can also concatenate (combine) two strings:"
      ],
      "metadata": {
        "id": "FTbTEB5rXeAc"
      }
    },
    {
      "cell_type": "code",
      "source": [
        "greeting = \"Hello, \"\n",
        "name = \"John\"\n",
        "complete_greeting = greeting + name\n",
        "print(complete_greeting)  # Output: \"Hello, John\"\n"
      ],
      "metadata": {
        "colab": {
          "base_uri": "https://localhost:8080/"
        },
        "id": "DkYhYNHfXaiC",
        "outputId": "2c845b62-c28e-41dc-96b9-29ce54a91039"
      },
      "execution_count": 6,
      "outputs": [
        {
          "output_type": "stream",
          "name": "stdout",
          "text": [
            "Hello, John\n"
          ]
        }
      ]
    },
    {
      "cell_type": "markdown",
      "source": [
        "**Special Use of % for String Formatting** : The % operator can be used for old-style string formatting"
      ],
      "metadata": {
        "id": "_IwmqnUiXl-1"
      }
    },
    {
      "cell_type": "code",
      "source": [
        "name = \"John\"\n",
        "age = 30\n",
        "formatted_string = \"My name is %s and I am %f years old.\" % (name, age)\n",
        "print(formatted_string)  # Output: \"My name is John and I am 30 years old.\"\n"
      ],
      "metadata": {
        "colab": {
          "base_uri": "https://localhost:8080/"
        },
        "id": "9EB4kHerXwPR",
        "outputId": "bc760e8d-ed91-4a4a-ebe6-e2b8bdee6a0f"
      },
      "execution_count": 7,
      "outputs": [
        {
          "output_type": "stream",
          "name": "stdout",
          "text": [
            "My name is John and I am 30.000000 years old.\n"
          ]
        }
      ]
    },
    {
      "cell_type": "markdown",
      "source": [
        "The difference between **assignment and comparison**."
      ],
      "metadata": {
        "id": "RHfm5D1jY9EB"
      }
    },
    {
      "cell_type": "code",
      "source": [
        "x = 100  # Assignment: x now holds the value 10\n",
        "y = 20  # Assignment: y now holds the value 20\n",
        "z = x + y  # Assignment: z now holds the value of x + y, which is 30\n",
        "z"
      ],
      "metadata": {
        "id": "0b7JlivZYPBh",
        "colab": {
          "base_uri": "https://localhost:8080/"
        },
        "outputId": "c9a9903c-5c72-4ee1-d788-3d2a6003fc54"
      },
      "execution_count": 10,
      "outputs": [
        {
          "output_type": "execute_result",
          "data": {
            "text/plain": [
              "120"
            ]
          },
          "metadata": {},
          "execution_count": 10
        }
      ]
    },
    {
      "cell_type": "code",
      "source": [
        "\"\"\"\n",
        "Comparison (==, !=, <, >, <=, >=)\n",
        "Comparison operators are used to compare values and return a Boolean result (True or False).\n",
        "\"\"\"\n",
        "result = (10 == 20)  # Comparison: Checks if 10 is equal to 20; returns False\n",
        "result = (10 != 20)  # Comparison: Checks if 10 is not equal to 20; returns True\n",
        "result = (10 < 20)  # Comparison: Checks if 10 is less than 20; returns True\n",
        "result = (10 > 20)  # Comparison: Checks if 10 is greater than 20; returns False\n",
        "result = (10 <= 20)  # Comparison: Checks if 10 is less than or equal to 20; returns True\n",
        "result = (10 >= 20)  # Comparison: Checks if 10 is greater than or equal to 20; returns False\n"
      ],
      "metadata": {
        "id": "X3rq6KC3ZFKi"
      },
      "execution_count": 11,
      "outputs": []
    },
    {
      "cell_type": "markdown",
      "source": [
        " ## **Logical operators**\n",
        " In Python are used to combine conditional statements These operators are useful for making more complex conditions by combining simpler conditions. Python supports the following logical operators :\n",
        "and, or, not"
      ],
      "metadata": {
        "id": "xuzezR6rewNA"
      }
    },
    {
      "cell_type": "code",
      "source": [
        "x = 5\n",
        "print(x > 1 and x < 10)  # Output: True (both conditions are True)\n",
        "x = 5\n",
        "print(x < 1 or x > 3)  # Output: True (at least one condition is True)\n",
        "x = 5\n",
        "print(not x < 1)  # Output: True (x < 1 is False, so not False is True)\n"
      ],
      "metadata": {
        "colab": {
          "base_uri": "https://localhost:8080/"
        },
        "id": "qUIbh64EevGI",
        "outputId": "59c6ac34-d71c-4447-9f7e-fae156c85abf"
      },
      "execution_count": 12,
      "outputs": [
        {
          "output_type": "stream",
          "name": "stdout",
          "text": [
            "True\n",
            "True\n",
            "True\n"
          ]
        }
      ]
    },
    {
      "cell_type": "code",
      "source": [
        "x = 5\n",
        "y = 10\n",
        "print(x > 1 and y < 20 and x != y)  # Output: True (all conditions are True)\n"
      ],
      "metadata": {
        "colab": {
          "base_uri": "https://localhost:8080/"
        },
        "id": "hXsJNT9Ke8Cs",
        "outputId": "4eed47c6-7df3-44b6-8f06-0dc12512c7c1"
      },
      "execution_count": 13,
      "outputs": [
        {
          "output_type": "stream",
          "name": "stdout",
          "text": [
            "True\n"
          ]
        }
      ]
    },
    {
      "cell_type": "markdown",
      "source": [
        "## Override built-ins and classes"
      ],
      "metadata": {
        "id": "_5ECf1QFf8FB"
      }
    },
    {
      "cell_type": "code",
      "source": [
        "# DON'T DO THIS\n",
        "sum\n",
        "print(sum([1, 2, 3]))\n",
        "\n",
        "# Overriding the built-in 'sum' function\n",
        "# def sum(iterable):\n",
        "#     print(\"My custom sum function\")\n",
        "#     total = 0\n",
        "#     for item in iterable:\n",
        "#         total += item**2\n",
        "#     return total\n",
        "\n",
        "# print(sum([1, 2, 3]))\n",
        "\n",
        "# Create custom functions for the behviour you want\n",
        "\n",
        "def my_custom_sum(iterable):\n",
        "    print(\"My custom sum function\")\n",
        "    total = 0\n",
        "    for item in iterable:\n",
        "        total += item**2\n",
        "    return total\n",
        "\n",
        "print(sum([1, 2, 3]))"
      ],
      "metadata": {
        "colab": {
          "base_uri": "https://localhost:8080/"
        },
        "id": "XHPjot0Mf7Wk",
        "outputId": "df3ea79a-09e6-4224-ece7-2ec1b0d11795"
      },
      "execution_count": 14,
      "outputs": [
        {
          "output_type": "stream",
          "name": "stdout",
          "text": [
            "6\n",
            "6\n"
          ]
        }
      ]
    },
    {
      "cell_type": "markdown",
      "source": [
        "## Indentation :"
      ],
      "metadata": {
        "id": "n_oj9t_AcA7J"
      }
    },
    {
      "cell_type": "code",
      "source": [
        "n = [3, 5, 7]\n",
        "def double_list(x):\n",
        "    for i in range(0, len(x)):\n",
        "        x[i] = x[i] * 2\n",
        "    return x\n",
        "print(double_list(n))\n",
        "\n",
        "  # n = [3, 5, 7]\n",
        "  # def double_list(x):\n",
        "  #     for i in range(0, len(x)):\n",
        "  #         x[i] = x[i] * 2\n",
        "  #     return x\n",
        "  # print(double_list(n))\n"
      ],
      "metadata": {
        "colab": {
          "base_uri": "https://localhost:8080/"
        },
        "id": "qPl73SkocKGd",
        "outputId": "885b398a-979d-4928-99f4-ca8f7c71c8a2"
      },
      "execution_count": 16,
      "outputs": [
        {
          "output_type": "stream",
          "name": "stdout",
          "text": [
            "[6, 10, 14]\n"
          ]
        }
      ]
    },
    {
      "cell_type": "markdown",
      "source": [
        "## Reference\n",
        "**Reference Semantics** in Python refer to how the language handles variable assignment and function argument passing when dealing with mutable and immutable types.\n",
        "\n",
        "**Mutable vs. Immutable Types**\n",
        "\n",
        "First, it's essential to know that some data types in Python are mutable (can be changed after they are created), while others are immutable (cannot be changed once created).\n",
        "\n",
        "**Immutable types:** Numbers (int, float), Strings, Tuples\n",
        "\n",
        "**Mutable types:** Lists, Dictionaries, Sets"
      ],
      "metadata": {
        "id": "bcdKotmAizzH"
      }
    },
    {
      "cell_type": "code",
      "source": [
        "\"\"\"When you assign one variable to another for an immutable type, both variables point to the same object in memory until one of them is changed.\n",
        "Once changed, the variable will point to a new object in memory.\"\"\"\n",
        "\n",
        "x = 3  # Immutable type\n",
        "y = x\n",
        "\n",
        "print(x, \"\\t\\t\", y)\n",
        "print(id(x), id(y))  # Both will have the same id\n",
        "\n",
        "y = 4  # Now y will point to a different object in memory\n",
        "\n",
        "print(id(x), id(y))  # Different ids\n",
        "print(x, \"\\t\\t\", y)\n"
      ],
      "metadata": {
        "colab": {
          "base_uri": "https://localhost:8080/"
        },
        "id": "2481J2TMN_8z",
        "outputId": "862c6f3a-0520-4dcf-8552-bbc21a1468ee"
      },
      "execution_count": 17,
      "outputs": [
        {
          "output_type": "stream",
          "name": "stdout",
          "text": [
            "3 \t\t 3\n",
            "135856628646192 135856628646192\n",
            "135856628646192 135856628646224\n",
            "3 \t\t 4\n"
          ]
        }
      ]
    },
    {
      "cell_type": "code",
      "source": [
        "\"\"\"For mutable types, when you assign one variable to another, both point to the same object in memory.\n",
        "Changing one will also change the other because they refer to the same underlying object.\"\"\"\n",
        "\n",
        "a = [1, 2, 3]  # Mutable type\n",
        "b = a\n",
        "\n",
        "print(a, \"\\t\\t\", b)\n",
        "print(id(a), id(b))  # Both will have the same id\n",
        "\n",
        "b.append(4)\n",
        "\n",
        "print(id(a), id(b))\n",
        "print(a, \"\\t\\t\", b)  # Output will be [1, 2, 3, 4]\n"
      ],
      "metadata": {
        "colab": {
          "base_uri": "https://localhost:8080/"
        },
        "id": "4Ckkw_erjp3t",
        "outputId": "2878690e-921d-4521-c24a-90e0085d0aa8"
      },
      "execution_count": 18,
      "outputs": [
        {
          "output_type": "stream",
          "name": "stdout",
          "text": [
            "[1, 2, 3] \t\t [1, 2, 3]\n",
            "135856334870080 135856334870080\n",
            "135856334870080 135856334870080\n",
            "[1, 2, 3, 4] \t\t [1, 2, 3, 4]\n"
          ]
        }
      ]
    },
    {
      "cell_type": "markdown",
      "source": [
        "##Sequence Types"
      ],
      "metadata": {
        "id": "dVd_1LIjp_GY"
      }
    },
    {
      "cell_type": "markdown",
      "source": [
        "**List**\n",
        "\n",
        "A list can contain items of the same type or different types. It is mutable, meaning you can change its elements after the list has been created."
      ],
      "metadata": {
        "id": "J-QByH4srEhq"
      }
    },
    {
      "cell_type": "code",
      "source": [
        "# List\n",
        "numbers = [1, 2, 3, 4, 5]\n",
        "\n",
        "mixed_list = [1, \"apple\", 3.5, True]\n",
        "\n",
        "# Adding an element\n",
        "numbers.append(6)\n",
        "print(numbers)  # Output: [1, 2, 3, 4, 5, 6]\n",
        "\n",
        "# Changing an element\n",
        "mixed_list[1] = \"banana\"\n",
        "print(mixed_list)  # Output: [1, \"banana\", 3.5, True]\n",
        "\n"
      ],
      "metadata": {
        "colab": {
          "base_uri": "https://localhost:8080/"
        },
        "id": "YNq2E25UORvN",
        "outputId": "4fbd0952-7601-415d-959d-f8cde774ca47"
      },
      "execution_count": 19,
      "outputs": [
        {
          "output_type": "stream",
          "name": "stdout",
          "text": [
            "[1, 2, 3, 4, 5, 6]\n",
            "[1, 'banana', 3.5, True]\n"
          ]
        }
      ]
    },
    {
      "cell_type": "markdown",
      "source": [
        "**Tuples**\n",
        "\n",
        "Tuple are ordered and unchangeable/immutable (new items can't be added to it).\n",
        "\n",
        "Tuples can store duplicate items."
      ],
      "metadata": {
        "id": "yHUA731Yq_4S"
      }
    },
    {
      "cell_type": "code",
      "source": [
        "\n",
        "days = ('Monday', 'Tuesday', 'Wednesday')\n",
        "\n",
        "mixed_tuple = (1, 'apple', 3.5, True)\n",
        "\n",
        "# This will produce an error\n",
        "# days[0] = 'Sunday'\n",
        "\n",
        "# Concatenation to produce a new tuple\n",
        "new_days = days + ('Thursday',)\n",
        "print(new_days)  # Output: ('Monday', 'Tuesday', 'Wednesday', 'Thursday')\n"
      ],
      "metadata": {
        "colab": {
          "base_uri": "https://localhost:8080/"
        },
        "id": "3_7tIl6rPRtm",
        "outputId": "d9a298e6-db00-4b5d-97cc-dbaa1c273a19"
      },
      "execution_count": 20,
      "outputs": [
        {
          "output_type": "stream",
          "name": "stdout",
          "text": [
            "('Monday', 'Tuesday', 'Wednesday', 'Thursday')\n"
          ]
        }
      ]
    },
    {
      "cell_type": "markdown",
      "source": [
        "**String**\n",
        "\n",
        "Strings are sequences of characters. They are immutable."
      ],
      "metadata": {
        "id": "jxL5RJebrKcn"
      }
    },
    {
      "cell_type": "code",
      "source": [
        "#String\n",
        "vowels = \"aeiou\"\n",
        "\n",
        "sentence = \"Hello, 2023!\"\n",
        "\n",
        "# This will produce an error\n",
        "# sentence[0] = 'h'\n",
        "\n",
        "# Concatenation to produce a new string\n",
        "new_sentence = \"Hi\" + \", 2023!\"\n",
        "print(new_sentence)  # Output: \"Hi, 2023!\"\n"
      ],
      "metadata": {
        "colab": {
          "base_uri": "https://localhost:8080/"
        },
        "id": "k-GUrS-UqtG2",
        "outputId": "c72a56f7-8bdf-4cff-c0aa-a90afe5b39e8"
      },
      "execution_count": 21,
      "outputs": [
        {
          "output_type": "stream",
          "name": "stdout",
          "text": [
            "Hi, 2023!\n"
          ]
        }
      ]
    },
    {
      "cell_type": "markdown",
      "source": [
        "**Range** type is a special kind of sequence in Python that's often used for iteration in loops. It represents an immutable sequence of numbers, but unlike lists, tuples, or strings, it doesn't actually store all the numbers in memory."
      ],
      "metadata": {
        "id": "Yq6EL6bYRKUH"
      }
    },
    {
      "cell_type": "code",
      "source": [
        "print(\"Range with stop number and default step\")\n",
        "print(list(range(5)))\n",
        "print(\"Note: The iterator does not stop at the number specified\")\n",
        "\n",
        "print(\"Range with start, stop and step 2\")\n",
        "print(list(range(0,20,5)))\n",
        "\n",
        "print(\"Reverse direction with negative step size\")\n",
        "print(list(range(8,0,-2)))\n",
        "\n",
        "my_tuple = tuple(range(5, 10))\n",
        "print(my_tuple)"
      ],
      "metadata": {
        "id": "au1ZXVL9qyn_",
        "colab": {
          "base_uri": "https://localhost:8080/"
        },
        "outputId": "4fbae124-b2cf-4fc0-dab0-82dee75c14b9"
      },
      "execution_count": 22,
      "outputs": [
        {
          "output_type": "stream",
          "name": "stdout",
          "text": [
            "Range with stop number and default step\n",
            "[0, 1, 2, 3, 4]\n",
            "Note: The iterator does not stop at the number specified\n",
            "Range with start, stop and step 2\n",
            "[0, 5, 10, 15]\n",
            "Reverse direction with negative step size\n",
            "[8, 6, 4, 2]\n",
            "(5, 6, 7, 8, 9)\n"
          ]
        }
      ]
    },
    {
      "cell_type": "markdown",
      "source": [
        "## **Set Type**\n",
        "\n",
        "A set is an unordered collection of unique elements. Sets are mutable, meaning you can add and remove elements from them.\n",
        "\n",
        "Characteristics:\n",
        "\n",
        "**Unordered:** Elements have no fixed order.\n",
        "\n",
        "**Unique:** No duplicate elements are allowed.\n",
        "\n",
        "**Mutable:** Can add or remove elements.\n"
      ],
      "metadata": {
        "id": "Iqz3rdn8UcuZ"
      }
    },
    {
      "cell_type": "code",
      "source": [
        "my_set = {1, 2, 3}\n",
        "\n",
        "# Or you can use the set() constructor\n",
        "another_set = set([1, 2, 3])\n",
        "\n",
        "mixed_set = {1, \"apple\", 3.5}\n",
        "\n"
      ],
      "metadata": {
        "id": "0FP6iomsU6KI"
      },
      "execution_count": 23,
      "outputs": []
    },
    {
      "cell_type": "markdown",
      "source": [
        "You can perform set operations like union, intersection, and difference:"
      ],
      "metadata": {
        "id": "IgrJaSj2VQ8P"
      }
    },
    {
      "cell_type": "code",
      "source": [
        "a = {1, 2, 3}\n",
        "b = {3, 4, 5}\n",
        "\n",
        "print(a.union(b))  # Output: {1, 2, 3, 4, 5}\n",
        "print(a.intersection(b))  # Output: {3}\n",
        "print(a.difference(b))  # Output: {1, 2}"
      ],
      "metadata": {
        "id": "OX7Ashn-VNr_",
        "colab": {
          "base_uri": "https://localhost:8080/"
        },
        "outputId": "7f47b034-d80d-4218-f3d8-119368726872"
      },
      "execution_count": 24,
      "outputs": [
        {
          "output_type": "stream",
          "name": "stdout",
          "text": [
            "{1, 2, 3, 4, 5}\n",
            "{3}\n",
            "{1, 2}\n"
          ]
        }
      ]
    },
    {
      "cell_type": "markdown",
      "source": [
        "## **Mapping Type (dict)**\n",
        "\n",
        "A dict (dictionary) is an unordered collection of key-value pairs. Dictionaries are mutable and allow you to map keys to values.\n",
        "\n",
        "Characteristics:\n",
        "\n",
        "**Unordered:** Key-value pairs have no fixed order.\n",
        "\n",
        "**Mutable:** Can add or remove key-value pairs.\n",
        "\n",
        "**Unique Keys:** Keys must be unique."
      ],
      "metadata": {
        "id": "Nwd1bhtPVTVb"
      }
    },
    {
      "cell_type": "code",
      "source": [
        "my_dict = {'key1': 'value1', 'key2': 'value2', 'key3': 'value3'}\n",
        "print(my_dict)\n",
        "\n",
        "# using  the dict() constructor\n",
        "my_dict = dict(key1='value1', key2='value2', key3='value3')\n",
        "print(my_dict)\n",
        "\n",
        "# using zip function\n",
        "my_dict = dict(zip(['key1', 'key2', 'key3'], ['value1', 'value2', 'value3']))\n",
        "print(my_dict)\n",
        "\n",
        "# using tuples in a list\n",
        "my_dict = dict([('key2', 'value2'), ('key3', 'value3'), ('key1', 'value1'),])\n",
        "print(my_dict)\n",
        "\n",
        "fruit_colors = {'apple': 'red', 'banana': 'yellow', 'grape': 'purple'}\n",
        "print(fruit_colors)\n",
        "\n",
        "mixed_dict = {'name': 'Alice', 'age': 30, 'is_student': True}\n",
        "print(mixed_dict)"
      ],
      "metadata": {
        "colab": {
          "base_uri": "https://localhost:8080/"
        },
        "id": "SouD0-rCVbuj",
        "outputId": "752d64bb-8d9e-4fec-aba7-848714c32d51"
      },
      "execution_count": 25,
      "outputs": [
        {
          "output_type": "stream",
          "name": "stdout",
          "text": [
            "{'key1': 'value1', 'key2': 'value2', 'key3': 'value3'}\n",
            "{'key1': 'value1', 'key2': 'value2', 'key3': 'value3'}\n",
            "{'key1': 'value1', 'key2': 'value2', 'key3': 'value3'}\n",
            "{'key2': 'value2', 'key3': 'value3', 'key1': 'value1'}\n",
            "{'apple': 'red', 'banana': 'yellow', 'grape': 'purple'}\n",
            "{'name': 'Alice', 'age': 30, 'is_student': True}\n"
          ]
        }
      ]
    },
    {
      "cell_type": "markdown",
      "source": [
        "You can access, add, or modify key-value pairs in a dictionary"
      ],
      "metadata": {
        "id": "dNzop4NgVlRV"
      }
    },
    {
      "cell_type": "code",
      "source": [
        "# Access value by key\n",
        "print(fruit_colors['apple'])  # Output: 'red'\n",
        "\n",
        "# Add key-value pair\n",
        "fruit_colors['orange'] = 'orange'\n",
        "\n",
        "# Modify value\n",
        "fruit_colors['apple'] = 'green'\n",
        "\n",
        "print(fruit_colors)\n"
      ],
      "metadata": {
        "colab": {
          "base_uri": "https://localhost:8080/"
        },
        "id": "1InoCavXVkw4",
        "outputId": "8ae9dcce-11ca-4adb-f6a4-51a0db2243e5"
      },
      "execution_count": 26,
      "outputs": [
        {
          "output_type": "stream",
          "name": "stdout",
          "text": [
            "red\n",
            "{'apple': 'green', 'banana': 'yellow', 'grape': 'purple', 'orange': 'orange'}\n"
          ]
        }
      ]
    },
    {
      "cell_type": "code",
      "source": [
        "print(fruit_colors.get('apple'))\n",
        "print(fruit_colors.get('kiwi',\"doesn't exist\"))\n",
        "fruit_colors['kiwi'] = 'green'\n",
        "print(fruit_colors.get('kiwi',\"doesn't exist\"))"
      ],
      "metadata": {
        "colab": {
          "base_uri": "https://localhost:8080/"
        },
        "id": "eBkVJf_nZgQ9",
        "outputId": "9afc7f06-27ac-4ce0-8758-7d9c3aec6a75"
      },
      "execution_count": 27,
      "outputs": [
        {
          "output_type": "stream",
          "name": "stdout",
          "text": [
            "green\n",
            "doesn't exist\n",
            "green\n"
          ]
        }
      ]
    },
    {
      "cell_type": "markdown",
      "source": [
        "## **Control Structures**\n",
        "\n",
        "If-else and Loops\n"
      ],
      "metadata": {
        "id": "bKujWvR8brTx"
      }
    },
    {
      "cell_type": "code",
      "source": [
        "x = 10\n",
        "if x > 5:\n",
        "    print(\"x is greater than 5\")\n",
        "else:\n",
        "    print(\"x is less than or equal to 5\")\n"
      ],
      "metadata": {
        "colab": {
          "base_uri": "https://localhost:8080/"
        },
        "id": "cjXEV6UTVSxl",
        "outputId": "fcae47b6-ac1f-491b-acdc-722a2f0d24b0"
      },
      "execution_count": 28,
      "outputs": [
        {
          "output_type": "stream",
          "name": "stdout",
          "text": [
            "x is greater than 5\n"
          ]
        }
      ]
    },
    {
      "cell_type": "code",
      "source": [
        "if z == 3.45 or y == \"Hello\":\n",
        " x = x + 1\n",
        " y = y + \"World\" # String concat.\n"
      ],
      "metadata": {
        "id": "CCu26tTTQ8S5"
      },
      "execution_count": 29,
      "outputs": []
    },
    {
      "cell_type": "code",
      "source": [
        "# For Loop\n",
        "for i in range(5):\n",
        "    print(i)\n",
        "\n",
        "# While Loop\n",
        "count = 0\n",
        "while count < 5:\n",
        "    print(count)\n",
        "    count += 1\n"
      ],
      "metadata": {
        "colab": {
          "base_uri": "https://localhost:8080/"
        },
        "id": "0Bdh3A_qh4kT",
        "outputId": "4f1bfed0-a663-4168-cc62-74c2c9ad0239"
      },
      "execution_count": 30,
      "outputs": [
        {
          "output_type": "stream",
          "name": "stdout",
          "text": [
            "0\n",
            "1\n",
            "2\n",
            "3\n",
            "4\n",
            "0\n",
            "1\n",
            "2\n",
            "3\n",
            "4\n"
          ]
        }
      ]
    },
    {
      "cell_type": "markdown",
      "source": [
        "## **Functions**"
      ],
      "metadata": {
        "id": "gzursOjCZ61-"
      }
    },
    {
      "cell_type": "code",
      "source": [
        "def describe_pet(animal_type , pet_name ):\n",
        "    print(f\"I have a {animal_type} named {pet_name}.\")\n",
        "\n",
        "\n",
        "describe_pet(animal_type='hamster' , pet_name =\"Perry\")\n",
        "\n",
        "# Another way\n",
        "# def describe_pet(animal_type =\"Dog\" , pet_name=\"Andy\" ):\n",
        "#     print(f\"I have a {animal_type} named {pet_name}.\")\n",
        "\n",
        "# Another way\n",
        "# def describe_pet(animal_type , pet_name=\"Andy\" ):\n",
        "#     print(f\"I have a {animal_type} named {pet_name}.\")\n",
        "\n",
        "# Wrong way. Why?\n",
        "# def describe_pet(animal_type =\"Dog\" , pet_name ):\n",
        "#     print(f\"I have a {animal_type} named {pet_name}.\")"
      ],
      "metadata": {
        "colab": {
          "base_uri": "https://localhost:8080/"
        },
        "id": "1FcOu4-rbpQ2",
        "outputId": "655aaee7-161f-491c-a388-d3ff577da896"
      },
      "execution_count": 50,
      "outputs": [
        {
          "output_type": "stream",
          "name": "stdout",
          "text": [
            "I have a hamster named Perry.\n"
          ]
        }
      ]
    },
    {
      "cell_type": "code",
      "source": [
        "def min_max(numbers):\n",
        "    return min(numbers), max(numbers)\n",
        "\n",
        "min_val, max_val = min_max([1, 2, 3, 4, 5])\n",
        "\n",
        "print(min_val, max_val)"
      ],
      "metadata": {
        "colab": {
          "base_uri": "https://localhost:8080/"
        },
        "id": "Kezo6lB6bzbL",
        "outputId": "d0bf1fb6-f202-4e15-ed65-7b6f40e88395"
      },
      "execution_count": 32,
      "outputs": [
        {
          "output_type": "stream",
          "name": "stdout",
          "text": [
            "1 5\n"
          ]
        }
      ]
    },
    {
      "cell_type": "code",
      "source": [
        "def add(*args):\n",
        "    total = 0\n",
        "    for num in args:\n",
        "        total += num\n",
        "    return total\n",
        "\n",
        "print(add(1, 2, 3, 4, 5))  # Output: 15\n",
        "print(add(10, 20))         # Output: 30\n"
      ],
      "metadata": {
        "colab": {
          "base_uri": "https://localhost:8080/"
        },
        "id": "n8v3_FdsCUxa",
        "outputId": "d6c77613-1bc1-44e4-93a7-0c39ccca3e2d"
      },
      "execution_count": 33,
      "outputs": [
        {
          "output_type": "stream",
          "name": "stdout",
          "text": [
            "15\n",
            "30\n"
          ]
        }
      ]
    },
    {
      "cell_type": "code",
      "source": [
        "add_ten = lambda x: x + 10\n",
        "print(add_ten(5))  # Output will be 15\n",
        "\n",
        "multiply = lambda x, y: x * y\n",
        "print(multiply(3, 4))  # Output will be 12\n",
        "\n",
        "average = lambda x, y, z: (x + y + z) / 3\n",
        "print(average(5, 10, 15))  # Output will be 10.0\n"
      ],
      "metadata": {
        "id": "VbhscMBjCdtB",
        "colab": {
          "base_uri": "https://localhost:8080/"
        },
        "outputId": "c054beef-a323-432a-cb70-59c7f0768ae8"
      },
      "execution_count": 34,
      "outputs": [
        {
          "output_type": "stream",
          "name": "stdout",
          "text": [
            "15\n",
            "12\n",
            "10.0\n"
          ]
        }
      ]
    },
    {
      "cell_type": "markdown",
      "source": [],
      "metadata": {
        "id": "Uw5000ZeBw3t"
      }
    },
    {
      "cell_type": "code",
      "source": [
        "points = [(1, 2), (3, 4), (0, 1)]\n",
        "points.sort(key=lambda x: x[1])\n",
        "print(points)\n"
      ],
      "metadata": {
        "id": "t-6cZwl6codA",
        "colab": {
          "base_uri": "https://localhost:8080/"
        },
        "outputId": "77f6fb8d-8571-4cde-f3d5-77c3d1f4f2e4"
      },
      "execution_count": 40,
      "outputs": [
        {
          "output_type": "stream",
          "name": "stdout",
          "text": [
            "[(0, 1), (1, 2), (3, 4)]\n"
          ]
        }
      ]
    },
    {
      "cell_type": "code",
      "source": [
        "type(points[0])"
      ],
      "metadata": {
        "id": "q8AkGF15TuNE",
        "colab": {
          "base_uri": "https://localhost:8080/"
        },
        "outputId": "9fd19ff2-3c16-475f-8a56-40312f1ede2f"
      },
      "execution_count": 41,
      "outputs": [
        {
          "output_type": "execute_result",
          "data": {
            "text/plain": [
              "tuple"
            ]
          },
          "metadata": {},
          "execution_count": 41
        }
      ]
    },
    {
      "cell_type": "code",
      "source": [
        "\n",
        "# Error Handling\n",
        "\n",
        "_sum = 0\n",
        "while True:\n",
        "    try:\n",
        "        val = int(input('Enter next integer, 0 to stop: '))\n",
        "        if val == 0:\n",
        "            break\n",
        "        _sum += val\n",
        "    except ValueError:\n",
        "        print(\"Input must be an integer\")\n",
        "print(_sum)"
      ],
      "metadata": {
        "colab": {
          "base_uri": "https://localhost:8080/"
        },
        "id": "284-R3W9cL2R",
        "outputId": "332d1b56-134b-4213-cdd6-448f57d5e4cd"
      },
      "execution_count": 39,
      "outputs": [
        {
          "output_type": "stream",
          "name": "stdout",
          "text": [
            "Enter next integer, 0 to stop: 1\n",
            "Enter next integer, 0 to stop: 2\n",
            "Enter next integer, 0 to stop: a\n",
            "Input must be an integer\n",
            "Enter next integer, 0 to stop: 3\n",
            "Enter next integer, 0 to stop: 4\n",
            "Enter next integer, 0 to stop: 0\n",
            "10\n"
          ]
        }
      ]
    },
    {
      "cell_type": "markdown",
      "source": [
        "# Review"
      ],
      "metadata": {
        "id": "-rkfka_qUGO-"
      }
    },
    {
      "cell_type": "code",
      "source": [
        "#Guess the Data Type\n",
        "type(True)\n"
      ],
      "metadata": {
        "id": "h-DVYZEVTyBo"
      },
      "execution_count": null,
      "outputs": []
    },
    {
      "cell_type": "code",
      "source": [
        "#Lambda Question\n",
        "f = lambda x: x*x\n",
        "print(f(5))\n",
        "\n",
        "# A) 25\n",
        "# B) 10\n",
        "# C) 5"
      ],
      "metadata": {
        "id": "Wf88EZptU6H8"
      },
      "execution_count": null,
      "outputs": []
    },
    {
      "cell_type": "code",
      "source": [
        "# Identify the Error\n",
        "print(\"I am\" + 25 + \"years old.\")\n",
        "\n",
        "# A) No error\n",
        "# B) Cannot concatenate str and int\n",
        "# C) The print function is misspelled"
      ],
      "metadata": {
        "id": "quhld3gIVAsg"
      },
      "execution_count": null,
      "outputs": []
    },
    {
      "cell_type": "code",
      "source": [
        "#Guess the output\n",
        "\n",
        "print(not True)\n"
      ],
      "metadata": {
        "id": "lO6ISyQBVDyb"
      },
      "execution_count": null,
      "outputs": []
    },
    {
      "cell_type": "code",
      "source": [
        "# List Indices\n",
        "\n",
        "my_list = [1, 2, 3, 4]\n",
        "print(my_list[0])"
      ],
      "metadata": {
        "id": "jxx1v5tbVMeN"
      },
      "execution_count": null,
      "outputs": []
    },
    {
      "cell_type": "code",
      "source": [
        "#Looping\n",
        "\n",
        "for i in range(3):\n",
        "    print(i)\n",
        "# A) 0 1 2\n",
        "# B) 1 2 3\n",
        "# C) 0 1 2 3"
      ],
      "metadata": {
        "id": "93Ec5qYEVQpv"
      },
      "execution_count": null,
      "outputs": []
    },
    {
      "cell_type": "code",
      "source": [
        "#Set\n",
        "\n",
        "my_set = {1, 2, 2, 3}\n",
        "print(len(my_set))\n",
        "\n",
        "# A) 3\n",
        "# B) 4\n",
        "# C) 2"
      ],
      "metadata": {
        "id": "OpsdZZp6VfrN"
      },
      "execution_count": null,
      "outputs": []
    },
    {
      "cell_type": "code",
      "source": [
        "#What's missing?\n",
        "if 5 > 2:\n",
        "    print(\"Yes\")\n",
        "\n",
        "# A) else: statement\n",
        "# B) Nothing, it's fine\n",
        "# C) return statement"
      ],
      "metadata": {
        "id": "52nDgxPwWtWL"
      },
      "execution_count": null,
      "outputs": []
    },
    {
      "cell_type": "code",
      "source": [
        "#At some point in the class I mentioned a hamster. What was the hamster's name?\n",
        "\n",
        "# A) Perry\n",
        "# B) Harry\n",
        "# C) Andy\n"
      ],
      "metadata": {
        "id": "Rxuo5f0kWwma"
      },
      "execution_count": null,
      "outputs": []
    },
    {
      "cell_type": "code",
      "source": [],
      "metadata": {
        "id": "wABueCzAyz_-"
      },
      "execution_count": null,
      "outputs": []
    }
  ]
}