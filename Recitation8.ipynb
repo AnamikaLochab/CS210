{
  "nbformat": 4,
  "nbformat_minor": 0,
  "metadata": {
    "colab": {
      "provenance": []
    },
    "kernelspec": {
      "name": "python3",
      "display_name": "Python 3"
    },
    "language_info": {
      "name": "python"
    }
  },
  "cells": [
    {
      "cell_type": "code",
      "source": [
        "import re"
      ],
      "metadata": {
        "id": "uZPxZDSoVXJx"
      },
      "execution_count": null,
      "outputs": []
    },
    {
      "cell_type": "markdown",
      "source": [
        "MULTILINE"
      ],
      "metadata": {
        "id": "MQSPWKb7g5t9"
      }
    },
    {
      "cell_type": "code",
      "source": [
        "text = \"\"\"Line one\n",
        "Line two\n",
        "Line three\"\"\"\n",
        "\n",
        "matches1 = re.findall(r'^Line', text, )\n",
        "matches2 = re.findall(r'^Line', text, re.MULTILINE)\n",
        "matches3 = re.findall(r'.+', text, re.DOTALL)\n",
        "print(matches1)\n",
        "print(matches2)\n",
        "print(matches3)"
      ],
      "metadata": {
        "colab": {
          "base_uri": "https://localhost:8080/"
        },
        "id": "6jPjPITCg7dw",
        "outputId": "ec4d50a1-bdb3-4062-9a3e-96987b3ca2f3"
      },
      "execution_count": null,
      "outputs": [
        {
          "output_type": "stream",
          "name": "stdout",
          "text": [
            "['Line']\n",
            "['Line', 'Line', 'Line']\n",
            "['Line one\\nLine two\\nLine three']\n"
          ]
        }
      ]
    },
    {
      "cell_type": "code",
      "source": [
        "text = \"\"\"\n",
        "    Line one\n",
        "    Line two\n",
        "    Line three\"\"\"\n",
        "\n",
        "# Remove leading whitespace at the beginning of each line\n",
        "cleaned_text = re.sub(r'^\\s+', '', text, flags=re.MULTILINE)\n",
        "\n",
        "print(cleaned_text)\n"
      ],
      "metadata": {
        "colab": {
          "base_uri": "https://localhost:8080/"
        },
        "id": "f4UUWiDChJ74",
        "outputId": "89bda0b7-e3df-41dc-ae5f-071f0fb1d074"
      },
      "execution_count": null,
      "outputs": [
        {
          "output_type": "stream",
          "name": "stdout",
          "text": [
            "Line one\n",
            "Line two\n",
            "Line three\n"
          ]
        }
      ]
    },
    {
      "cell_type": "markdown",
      "source": [
        "Greedy vs Non-greedy matches"
      ],
      "metadata": {
        "id": "yagwQcTMjRFu"
      }
    },
    {
      "cell_type": "code",
      "source": [
        "import re\n",
        "\n",
        "# The sample HTML text\n",
        "html_text = \"<p>This is the first paragraph.</p><p>This is the second paragraph.</p>\"\n",
        "\n",
        "# Greedy regex\n",
        "greedy_regex = re.compile(r\"<p>.*</p>\")\n",
        "# Non-greedy regex\n",
        "nongreedy_regex = re.compile(r\"<p>.*?</p>\")\n",
        "\n",
        "# Perform the greedy search\n",
        "greedy_match = greedy_regex.search(html_text)\n",
        "print(\"Greedy match:\", greedy_match.group())\n",
        "\n",
        "# Perform the non-greedy search\n",
        "nongreedy_match = nongreedy_regex.search(html_text)\n",
        "print(\"Non-greedy match:\", nongreedy_match.group())\n"
      ],
      "metadata": {
        "colab": {
          "base_uri": "https://localhost:8080/"
        },
        "id": "qSIvo7eijWjf",
        "outputId": "982edf24-f9bb-4b04-dae8-47d14cdeaf44"
      },
      "execution_count": null,
      "outputs": [
        {
          "output_type": "stream",
          "name": "stdout",
          "text": [
            "Greedy match: <p>This is the first paragraph.</p><p>This is the second paragraph.</p>\n",
            "Non-greedy match: <p>This is the first paragraph.</p>\n"
          ]
        }
      ]
    },
    {
      "cell_type": "code",
      "source": [
        "greedy_match_all = greedy_regex.findall(html_text)\n",
        "print(\"Greedy match:\", greedy_match_all)\n",
        "\n",
        "# Perform the non-greedy search\n",
        "nongreedy_match_all = nongreedy_regex.findall(html_text)\n",
        "print(\"Non-greedy match:\", nongreedy_match_all)\n"
      ],
      "metadata": {
        "colab": {
          "base_uri": "https://localhost:8080/"
        },
        "id": "UC4_gv_7kSWc",
        "outputId": "ee7ec9b2-3f8a-4b75-9f6f-e7bd58fe0d29"
      },
      "execution_count": null,
      "outputs": [
        {
          "output_type": "stream",
          "name": "stdout",
          "text": [
            "Greedy match: ['<p>This is the first paragraph.</p><p>This is the second paragraph.</p>']\n",
            "Non-greedy match: ['<p>This is the first paragraph.</p>', '<p>This is the second paragraph.</p>']\n"
          ]
        }
      ]
    },
    {
      "cell_type": "code",
      "source": [
        "\n",
        "\n",
        "html_text = \"\"\"\n",
        "<html>\n",
        "<head>\n",
        "<title>My Website</title>\n",
        "</head>\n",
        "<body>\n",
        "<h1>Welcome to My Website</h1>\n",
        "<p>This is a paragraph.</p>\n",
        "<!-- This is a comment -->\n",
        "<p>This is another paragraph with a <a href=\"http://example.com\">link</a>.</p>\n",
        "</body>\n",
        "</html>\n",
        "\"\"\"\n",
        "\n",
        "# Extract the content of the title tag\n",
        "title = re.search('<title>(.*)</title>', html_text, re.DOTALL)\n",
        "print(title.group(1))\n",
        "\n",
        "# Extract all paragraph texts\n",
        "paragraphs = re.findall('<p>(.*)</p>', html_text, re.DOTALL)\n",
        "for paragraph in paragraphs:\n",
        "    print(paragraph.strip())  # Outputs the text within each <p> tag\n",
        "\n",
        "# Extract href attribute values from anchor tags\n",
        "links = re.findall('<a href=\"(.*)\">', html_text)\n",
        "for link in links:\n",
        "    print(link)  # Outputs the URLs in href attributes\n"
      ],
      "metadata": {
        "colab": {
          "base_uri": "https://localhost:8080/"
        },
        "id": "ZKsLuELXhbuG",
        "outputId": "8d36c7c0-b413-4280-a432-09deb252cdc0"
      },
      "execution_count": null,
      "outputs": [
        {
          "output_type": "stream",
          "name": "stdout",
          "text": [
            "My Website\n",
            "This is a paragraph.</p>\n",
            "<!-- This is a comment -->\n",
            "<p>This is another paragraph with a <a href=\"http://example.com\">link</a>.\n",
            "http://example.com\n"
          ]
        }
      ]
    },
    {
      "cell_type": "markdown",
      "source": [
        "Substitution with Regular Expressions"
      ],
      "metadata": {
        "id": "wpU7EhDkk2FR"
      }
    },
    {
      "cell_type": "code",
      "source": [
        "text = \"Hello World\"\n",
        "pattern = r\"World\"\n",
        "replacement = \"Regex\"\n",
        "\n",
        "new_text = re.sub(pattern, replacement, text)\n",
        "\n",
        "print(new_text)"
      ],
      "metadata": {
        "colab": {
          "base_uri": "https://localhost:8080/"
        },
        "id": "hIJCmoc4k2pw",
        "outputId": "321c8347-84b1-4a73-9bf3-a62ae02c8e7d"
      },
      "execution_count": null,
      "outputs": [
        {
          "output_type": "stream",
          "name": "stdout",
          "text": [
            "Hello Regex\n"
          ]
        }
      ]
    },
    {
      "cell_type": "code",
      "source": [
        "res = re.search(r'(\\d+)-(.*)-\\1','123-abd-113')\n",
        "print(res)\n",
        "res = re.search(r'(\\d+)-(.*)-\\2','123-abd-abc')\n",
        "print(res)"
      ],
      "metadata": {
        "colab": {
          "base_uri": "https://localhost:8080/"
        },
        "id": "dqVuUa9r2kHp",
        "outputId": "eebc3118-e190-4bb1-f1d3-f79fc93f0023"
      },
      "execution_count": null,
      "outputs": [
        {
          "output_type": "stream",
          "name": "stdout",
          "text": [
            "None\n",
            "None\n"
          ]
        }
      ]
    },
    {
      "cell_type": "markdown",
      "source": [
        "Use regex groups in the substitution to reference parts of the matched patterns."
      ],
      "metadata": {
        "id": "lUKtc8j-lKAH"
      }
    },
    {
      "cell_type": "code",
      "source": [
        "text = \"John: 1234, Jane: 5678\"\n",
        "pattern = r\"(\\w+): (\\d+)\"\n",
        "replacement = r\"User: \\1, ID: \\2\"\n",
        "\n",
        "new_text = re.sub(pattern, replacement, text)\n",
        "print(new_text)"
      ],
      "metadata": {
        "colab": {
          "base_uri": "https://localhost:8080/"
        },
        "id": "FuJ8L1S3k7cL",
        "outputId": "5347e8f2-d6b2-488e-c2ee-226ab24f7180"
      },
      "execution_count": null,
      "outputs": [
        {
          "output_type": "stream",
          "name": "stdout",
          "text": [
            "User: John, ID: 1234, User: Jane, ID: 5678\n"
          ]
        }
      ]
    },
    {
      "cell_type": "markdown",
      "source": [
        "If you need to perform a more complex substitution that cannot be defined by a simple replacement string, you can pass a function as the 'replace' argument. The function will be called for each non-overlapping occurrence of pattern"
      ],
      "metadata": {
        "id": "IvyswkH0liiW"
      }
    },
    {
      "cell_type": "code",
      "source": [
        "\n",
        "text = \"The price is 100 dollars\"\n",
        "pattern = r\"\\d+\"\n",
        "\n",
        "# Function to double the value matched by the pattern\n",
        "def double(match):\n",
        "    print(match.group(0))\n",
        "    return str(int(match.group(0)) * 2)\n",
        "\n",
        "new_text = re.sub(pattern, double, text)\n",
        "\n",
        "print(new_text)\n"
      ],
      "metadata": {
        "colab": {
          "base_uri": "https://localhost:8080/"
        },
        "id": "CKb4EitElWZs",
        "outputId": "03e06a82-cbe7-4d91-c3e9-d0dd9df13f6e"
      },
      "execution_count": null,
      "outputs": [
        {
          "output_type": "stream",
          "name": "stdout",
          "text": [
            "100\n",
            "The price is 200 dollars\n"
          ]
        }
      ]
    },
    {
      "cell_type": "markdown",
      "source": [
        "Flags"
      ],
      "metadata": {
        "id": "nQc1HIA7yBND"
      }
    },
    {
      "cell_type": "code",
      "source": [
        "\n",
        "text = \"\"\"Here is an EXAMPLE\n",
        "With multiple LINES of text\n",
        "And some more TEXT\n",
        "\"\"\"\n",
        "\n",
        "# Case-insensitive search without the IGNORECASE flag\n",
        "print(re.findall('example', text))\n",
        "\n",
        "# Case-insensitive search with the IGNORECASE flag\n",
        "print(re.findall('example', text, re.IGNORECASE))\n",
        "\n",
        "# Multiline search for lines starting with 'And'\n",
        "print(re.findall('^And', text))\n",
        "\n",
        "# Multiline search with the MULTILINE flag\n",
        "print(re.findall('^And', text, re.MULTILINE))\n",
        "\n",
        "# DOTALL search where '.' includes newlines\n",
        "print(re.findall('LINES.*TEXT', text))\n",
        "\n",
        "# DOTALL search with the DOTALL flag\n",
        "print(re.findall('LINES.*TEXT', text, re.DOTALL))\n",
        "print(re.findall('LINES.*?TEXT', text, re.DOTALL))\n",
        "print(re.findall('LINES.*?TEXT', text, re.DOTALL|re.IGNORECASE))\n",
        "\n",
        "# VERBOSE pattern with comments\n",
        "pattern = re.compile(r\"\"\"\n",
        "    ^        # beginning of the line\n",
        "    (\\w+)    # word characters group\n",
        "    \\s+      # one or more whitespace\n",
        "    (\\w+)    # second word\n",
        "    \"\"\", re.VERBOSE | re.MULTILINE)\n",
        "\n",
        "print(pattern.search(text))\n"
      ],
      "metadata": {
        "colab": {
          "base_uri": "https://localhost:8080/"
        },
        "id": "-0c1bYmZyA8W",
        "outputId": "54875049-adff-4db9-c69e-30e3414a71e9"
      },
      "execution_count": null,
      "outputs": [
        {
          "output_type": "stream",
          "name": "stdout",
          "text": [
            "[]\n",
            "['EXAMPLE']\n",
            "[]\n",
            "['And']\n",
            "[]\n",
            "['LINES of text\\nAnd some more TEXT']\n",
            "['LINES of text\\nAnd some more TEXT']\n",
            "['LINES of text']\n",
            "<re.Match object; span=(0, 7), match='Here is'>\n"
          ]
        }
      ]
    },
    {
      "cell_type": "markdown",
      "source": [
        "Output?"
      ],
      "metadata": {
        "id": "kqCFa1gzrRiU"
      }
    },
    {
      "cell_type": "code",
      "source": [
        "pattern = r'John (Reginald)? Smith'\n",
        "\n",
        "\n",
        "match1 = re.fullmatch(pattern, 'John Reginald Smith')\n",
        "print(\"Match 1:\", bool(match1))\n",
        "\n",
        "\n",
        "match2 = re.fullmatch(pattern, 'John  Smith')\n",
        "print(\"Match 2:\", bool(match2))\n",
        "\n",
        "\n",
        "match3 = re.fullmatch(pattern, 'John H Smith')\n",
        "print(\"Match 3:\", bool(match3))\n"
      ],
      "metadata": {
        "colab": {
          "base_uri": "https://localhost:8080/"
        },
        "id": "eD_OZGilrRNN",
        "outputId": "fdef750e-e5ba-443a-dace-de8ee97b04e8"
      },
      "execution_count": null,
      "outputs": [
        {
          "output_type": "stream",
          "name": "stdout",
          "text": [
            "Match 1: True\n",
            "Match 2: True\n",
            "Match 3: False\n"
          ]
        }
      ]
    },
    {
      "cell_type": "code",
      "source": [
        "pattern = r'John (Reginald )?Smith'\n",
        "\n",
        "\n",
        "match1 = re.fullmatch(pattern, 'John Reginald Smith')\n",
        "print(\"Match 1:\", bool(match1))\n",
        "\n",
        "\n",
        "match2 = re.fullmatch(pattern, 'John Smith')\n",
        "print(\"Match 2:\", bool(match2))\n",
        "\n",
        "\n",
        "match3 = re.fullmatch(pattern, 'John H Smith')\n",
        "print(\"Match 3:\", bool(match3))\n"
      ],
      "metadata": {
        "colab": {
          "base_uri": "https://localhost:8080/"
        },
        "id": "u2Q0_R50rd6c",
        "outputId": "1262fff3-8f81-4e0d-8f00-8de918d9d1d2"
      },
      "execution_count": null,
      "outputs": [
        {
          "output_type": "stream",
          "name": "stdout",
          "text": [
            "Match 1: True\n",
            "Match 2: True\n",
            "Match 3: False\n"
          ]
        }
      ]
    },
    {
      "cell_type": "markdown",
      "source": [
        "**Given the following text: \"Error: Invalid input at line 42. Warning: Deprecated API call at line 108.\" Write a regex to extract the line numbers**"
      ],
      "metadata": {
        "id": "XRBF_tZMT4wp"
      }
    },
    {
      "cell_type": "code",
      "execution_count": null,
      "metadata": {
        "colab": {
          "base_uri": "https://localhost:8080/"
        },
        "id": "mymNYvZ9T2Xu",
        "outputId": "015fc10b-f40d-492f-fad1-0e978a2c1688"
      },
      "outputs": [
        {
          "output_type": "stream",
          "name": "stdout",
          "text": [
            "['42', '108']\n"
          ]
        }
      ],
      "source": [
        "text = \"Error: Invalid input at line 42. Warning: Deprecated API call at line 108.\"\n",
        "pattern = r'line (\\d+)'\n",
        "\n",
        "# Find all matches of the pattern\n",
        "line_numbers = re.findall(pattern, text)\n",
        "\n",
        "print(line_numbers)\n",
        "\n"
      ]
    },
    {
      "cell_type": "markdown",
      "source": [
        "**Consider a scenario where you have log data with timestamps in the format [YYYY-MM-DD HH:MM:SS]. Write a regex to match timestamps that correspond to the time between 9 PM and 11:59 PM, regardless of the date.**"
      ],
      "metadata": {
        "id": "eQDq7hc0Vi5I"
      }
    },
    {
      "cell_type": "code",
      "source": [
        "time_pattern = r'^\\[\\d{4}-\\d{2}-\\d{2} (2[1-3]):[0-5][0-9]:[0-5][0-9]\\]$'\n",
        "\n",
        "# Sample log data\n",
        "log_data = [\n",
        "    \"[2023-11-02 21:00:00]\",\n",
        "    \"[2023-11-02 22:15:30]\",\n",
        "    \"[2023-11-02 23:59:59]\",\n",
        "    \"[2023-11-02 20:59:59]\",\n",
        "    \"[2023-11-02 00:00:00]\"\n",
        "]\n",
        "\n",
        "# Check each log entry against the pattern\n",
        "for log in log_data:\n",
        "    if re.match(time_pattern, log):\n",
        "        print(f\"Timestamp matches: {log}\")\n",
        "    else:\n",
        "        print(f\"Timestamp does not match: {log}\")"
      ],
      "metadata": {
        "colab": {
          "base_uri": "https://localhost:8080/"
        },
        "id": "3t5a1UEIUToo",
        "outputId": "43f1ebdc-1af4-483d-9a3b-2bfe3af31b75"
      },
      "execution_count": null,
      "outputs": [
        {
          "output_type": "stream",
          "name": "stdout",
          "text": [
            "Timestamp matches: [2023-11-02 21:00:00]\n",
            "Timestamp matches: [2023-11-02 22:15:30]\n",
            "Timestamp matches: [2023-11-02 23:59:59]\n",
            "Timestamp does not match: [2023-11-02 20:59:59]\n",
            "Timestamp does not match: [2023-11-02 00:00:00]\n"
          ]
        }
      ]
    },
    {
      "cell_type": "markdown",
      "source": [
        "**Can you construct a regular expression that matches a string containing a pair of words, where the second word is the reverse of the first? For instance, it should match \"defied deifed\" or \"level level\".**"
      ],
      "metadata": {
        "id": "SzDj7SY10vWH"
      }
    },
    {
      "cell_type": "code",
      "source": [
        "def reverse_word(match):\n",
        "    print(match.group(1))\n",
        "    print(match.group(1)[::-1])\n",
        "    return match.group(1)[::-1]\n",
        "\n",
        "\n",
        "test_strings = [\"defied deifed\", \"level level\", \"test tset\", \"hello olleho\"]\n",
        "\n",
        "\n",
        "pattern = r'\\b(\\w+)\\b'\n",
        "\n",
        "# Check each string\n",
        "for string in test_strings:\n",
        "    # Find all words in the string\n",
        "    words = re.findall(pattern, string)\n",
        "\n",
        "    # Check if there are exactly two words and if the second is the reverse of the first\n",
        "    if len(words) == 2 and words[1] == reverse_word(re.match(pattern, words[0])):\n",
        "        print(f'Match: {string}')\n",
        "    else:\n",
        "        print(f'No match: {string}')"
      ],
      "metadata": {
        "colab": {
          "base_uri": "https://localhost:8080/"
        },
        "id": "QlmF9vnlWddl",
        "outputId": "1c786e09-b4cc-4a4b-e9a0-e510dffe4499"
      },
      "execution_count": null,
      "outputs": [
        {
          "output_type": "stream",
          "name": "stdout",
          "text": [
            "defied\n",
            "deifed\n",
            "Match: defied deifed\n",
            "level\n",
            "level\n",
            "Match: level level\n",
            "test\n",
            "tset\n",
            "Match: test tset\n",
            "hello\n",
            "olleh\n",
            "No match: hello olleho\n"
          ]
        }
      ]
    },
    {
      "cell_type": "markdown",
      "source": [
        "**Here's a regex intended to match a quoted string: \"([^\"]*)\". However, it's currently also matching across multiple quoted sections, such as in He said, \"This is one,\" but it was not \"the only one.\" What can be modified to make sure it matches only within individual quotes without spanning across?**\n"
      ],
      "metadata": {
        "id": "bjKDqk7s0-ta"
      }
    },
    {
      "cell_type": "markdown",
      "source": [
        " **Check for and correct doubled words in a text using regular expressions.**"
      ],
      "metadata": {
        "id": "4TsCe3bZ18Po"
      }
    },
    {
      "cell_type": "code",
      "source": [
        "\n",
        "def remove_doubled_words(text):\n",
        "    # A regex pattern to match two consecutive identical words\n",
        "    pattern = r'\\b(\\w+)(\\s+)\\1\\b'\n",
        "\n",
        "    # sub() method to replace any found doubled words with a single occurrence\n",
        "    corrected_text = re.sub(pattern, r'\\1', text, flags=re.IGNORECASE)\n",
        "\n",
        "    return corrected_text\n",
        "\n",
        "\n",
        "text_with_doubles = \"This is an example example of a text with with doubled words words.\"\n",
        "\n",
        "\n",
        "corrected_text = remove_doubled_words(text_with_doubles)\n",
        "\n",
        "print(\"Original text:\", text_with_doubles)\n",
        "print(\"Corrected text:\", corrected_text)\n"
      ],
      "metadata": {
        "colab": {
          "base_uri": "https://localhost:8080/"
        },
        "id": "oMnMJpn1ztyC",
        "outputId": "55d6edd7-ef2e-403c-9e5d-b60e1d3dbe4c"
      },
      "execution_count": null,
      "outputs": [
        {
          "output_type": "stream",
          "name": "stdout",
          "text": [
            "Original text: This is an example example of a text with with doubled words words.\n",
            "Corrected text: This is an example of a text with doubled words.\n"
          ]
        }
      ]
    },
    {
      "cell_type": "markdown",
      "source": [
        "**Given a text 'content'. Write a file 'regrouped.txt', in which the data is regrouped in the following way:**\n",
        "\n",
        "1289,T83456\n",
        "\n",
        "1289,Z22334\n",
        "\n",
        "1205,T10032\n",
        "\n",
        "1205,B77301\n",
        "\n",
        "1205,T10786\n",
        "\n",
        "1205,C77502\n",
        "\n",
        "1410,K34001\n",
        "\n",
        "1410,T98987"
      ],
      "metadata": {
        "id": "OeJq_FDsnx8c"
      }
    },
    {
      "cell_type": "code",
      "source": [
        "content = \"\"\"customer-id 1289\n",
        "T83456\n",
        "customer-id 1289\n",
        "customer-id 1205\n",
        "T10032\n",
        "B77301\n",
        "customer-id 1205\n",
        "customer-id 1410\n",
        "K34001\n",
        "T98987\n",
        "customer-id 1410\n",
        "customer-id 1205\n",
        "T10786\n",
        "C77502\n",
        "customer-id 1205\n",
        "customer-id 1289\n",
        "Z22334\n",
        "customer-id 1289\"\"\"\n",
        "\n",
        "\n",
        "data = {}\n",
        "for x in re.finditer(r\"customer-id ([\\d\\n]{4})(.*?)customer-id \\1\", content, re.DOTALL):\n",
        "    key, values = x.groups()\n",
        "    print(x.groups())\n",
        "    print(data)\n",
        "    if key in data:\n",
        "        data[key] += values\n",
        "    else:\n",
        "        data[key] = values\n",
        "print(data)\n",
        "with open(\"regrouped.txt\", \"w\") as fh:\n",
        "    for key in data:\n",
        "        for art_no in data[key].split():\n",
        "            fh.write(f\"{key},{art_no}\\n\")"
      ],
      "metadata": {
        "colab": {
          "base_uri": "https://localhost:8080/"
        },
        "id": "2WqFRMEVnxrF",
        "outputId": "5bb17445-c53c-471e-932f-7a7e770a0658"
      },
      "execution_count": null,
      "outputs": [
        {
          "output_type": "stream",
          "name": "stdout",
          "text": [
            "('1289', '\\nT83456\\n')\n",
            "{}\n",
            "('1205', '\\nT10032\\nB77301\\n')\n",
            "{'1289': '\\nT83456\\n'}\n",
            "('1410', '\\nK34001\\nT98987\\n')\n",
            "{'1289': '\\nT83456\\n', '1205': '\\nT10032\\nB77301\\n'}\n",
            "('1205', '\\nT10786\\nC77502\\n')\n",
            "{'1289': '\\nT83456\\n', '1205': '\\nT10032\\nB77301\\n', '1410': '\\nK34001\\nT98987\\n'}\n",
            "('1289', '\\nZ22334\\n')\n",
            "{'1289': '\\nT83456\\n', '1205': '\\nT10032\\nB77301\\n\\nT10786\\nC77502\\n', '1410': '\\nK34001\\nT98987\\n'}\n",
            "{'1289': '\\nT83456\\n\\nZ22334\\n', '1205': '\\nT10032\\nB77301\\n\\nT10786\\nC77502\\n', '1410': '\\nK34001\\nT98987\\n'}\n"
          ]
        }
      ]
    },
    {
      "cell_type": "code",
      "source": [],
      "metadata": {
        "id": "tQViRxIhLONa"
      },
      "execution_count": null,
      "outputs": []
    }
  ]
}